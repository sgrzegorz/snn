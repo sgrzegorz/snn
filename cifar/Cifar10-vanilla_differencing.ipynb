{
 "cells": [
  {
   "cell_type": "markdown",
   "id": "f94268cf",
   "metadata": {},
   "source": [
    "\"\"\"\n",
    "- Data preparation\n",
    "- vanilla network X\n",
    "    - train on 100% of cifar10\n",
    "        - save result to cifar/models/vanilla_cifar10.h5\n",
    "- build_siamese_vanilla_model\n",
    "    - train on 100% of cifar10\n",
    "        - save result to cifar/models/siamese_vanilla_cifar10_diff.h5\n",
    "\"\"\""
   ]
  },
  {
   "cell_type": "code",
   "execution_count": 1,
   "id": "desirable-phone",
   "metadata": {},
   "outputs": [],
   "source": [
    "%config Completer.use_jedi = False"
   ]
  },
  {
   "cell_type": "code",
   "execution_count": 1,
   "id": "broken-corner",
   "metadata": {},
   "outputs": [
    {
     "name": "stderr",
     "output_type": "stream",
     "text": [
      "2024-06-13 20:12:10.083130: I tensorflow/core/util/port.cc:113] oneDNN custom operations are on. You may see slightly different numerical results due to floating-point round-off errors from different computation orders. To turn them off, set the environment variable `TF_ENABLE_ONEDNN_OPTS=0`.\n",
      "2024-06-13 20:12:10.123812: I tensorflow/core/platform/cpu_feature_guard.cc:210] This TensorFlow binary is optimized to use available CPU instructions in performance-critical operations.\n",
      "To enable the following instructions: AVX2 AVX512F AVX512_VNNI FMA, in other operations, rebuild TensorFlow with the appropriate compiler flags.\n",
      "2024-06-13 20:12:10.648707: W tensorflow/compiler/tf2tensorrt/utils/py_utils.cc:38] TF-TRT Warning: Could not find TensorRT\n"
     ]
    }
   ],
   "source": [
    "import tensorflow as tf\n",
    "import matplotlib.pyplot as plt\n",
    "import numpy as np\n",
    "import random\n",
    "from utils import *\n",
    "from sklearn.metrics import accuracy_score, confusion_matrix"
   ]
  },
  {
   "cell_type": "code",
   "execution_count": 2,
   "id": "based-brazilian",
   "metadata": {},
   "outputs": [],
   "source": [
    "# import the necessary packages\n",
    "from tensorflow.keras.models import Model\n",
    "from tensorflow.keras.layers import *\n",
    "from tensorflow.keras import datasets\n",
    "from tensorflow.keras.utils import to_categorical"
   ]
  },
  {
   "cell_type": "code",
   "execution_count": 3,
   "id": "turkish-circus",
   "metadata": {},
   "outputs": [
    {
     "data": {
      "text/plain": [
       "[PhysicalDevice(name='/physical_device:GPU:0', device_type='GPU')]"
      ]
     },
     "execution_count": 3,
     "metadata": {},
     "output_type": "execute_result"
    }
   ],
   "source": [
    "tf.config.list_physical_devices('GPU')"
   ]
  },
  {
   "cell_type": "markdown",
   "id": "2e2b9e4c",
   "metadata": {},
   "source": [
    "# Data preparation"
   ]
  },
  {
   "cell_type": "code",
   "execution_count": 4,
   "id": "civil-blogger",
   "metadata": {},
   "outputs": [],
   "source": [
    "(train_images, train_labels), (test_images, test_labels) = datasets.cifar10.load_data()"
   ]
  },
  {
   "cell_type": "code",
   "execution_count": 5,
   "id": "valid-candy",
   "metadata": {},
   "outputs": [
    {
     "data": {
      "text/plain": [
       "(50000, 32, 32, 3)"
      ]
     },
     "execution_count": 5,
     "metadata": {},
     "output_type": "execute_result"
    }
   ],
   "source": [
    "train_images.shape"
   ]
  },
  {
   "cell_type": "code",
   "execution_count": 6,
   "id": "healthy-punishment",
   "metadata": {},
   "outputs": [
    {
     "data": {
      "text/plain": [
       "(10000, 32, 32, 3)"
      ]
     },
     "execution_count": 6,
     "metadata": {},
     "output_type": "execute_result"
    }
   ],
   "source": [
    "test_images.shape"
   ]
  },
  {
   "cell_type": "code",
   "execution_count": 7,
   "id": "studied-cleaners",
   "metadata": {},
   "outputs": [],
   "source": [
    "train_images.astype('float32') \n",
    "test_images.astype('float32') \n",
    "\n",
    "train_images = train_images/255.\n",
    "test_images = test_images/255."
   ]
  },
  {
   "cell_type": "code",
   "execution_count": 8,
   "id": "earned-discount",
   "metadata": {},
   "outputs": [],
   "source": [
    "train_labels_cat = to_categorical(train_labels)\n",
    "test_labels_cat = to_categorical(test_labels)"
   ]
  },
  {
   "cell_type": "code",
   "execution_count": null,
   "id": "after-minutes",
   "metadata": {},
   "outputs": [],
   "source": []
  },
  {
   "cell_type": "markdown",
   "id": "inclusive-intervention",
   "metadata": {},
   "source": [
    "# Vanilla network"
   ]
  },
  {
   "cell_type": "code",
   "execution_count": 10,
   "id": "mental-prayer",
   "metadata": {},
   "outputs": [],
   "source": [
    "def build_vanilla_model(shape, class_num):\n",
    "    # specify the inputs for the feature extractor network\n",
    "    inputs = Input(shape)\n",
    "\n",
    "    x = Conv2D(32, (3, 3), activation=\"relu\")(inputs)\n",
    "    x = MaxPooling2D(pool_size=(2, 2))(x)\n",
    "\n",
    "    x = Conv2D(64, (2, 2), activation=\"relu\")(x)\n",
    "    x = MaxPooling2D(pool_size=(2,2))(x)\n",
    "    x = Dropout(0.2)(x)\n",
    "    \n",
    "    x = Conv2D(128, (2, 2), activation=\"relu\")(x)\n",
    "    x = MaxPooling2D(pool_size=(2,2))(x)\n",
    "    x = Dropout(0.2)(x)\n",
    "    \n",
    "    x = Flatten()(x)\n",
    "\n",
    "    x = Dense(32, activation='relu')(x)\n",
    "    x = Dropout(0.2)(x)\n",
    "    \n",
    "    outputs = Dense(class_num, activation='softmax')(x)\n",
    "\n",
    "    # build the model\n",
    "    model = Model(inputs, outputs)\n",
    "    \n",
    "    model.compile(optimizer='adam',\n",
    "              loss='categorical_crossentropy',\n",
    "              metrics=['accuracy'])\n",
    "\n",
    "    return model"
   ]
  },
  {
   "cell_type": "markdown",
   "id": "4e20eb50",
   "metadata": {},
   "source": [
    "### model on the whole dataset"
   ]
  },
  {
   "cell_type": "markdown",
   "id": "36307bc4",
   "metadata": {},
   "source": [
    "learning"
   ]
  },
  {
   "cell_type": "code",
   "execution_count": 11,
   "id": "junior-george",
   "metadata": {},
   "outputs": [
    {
     "name": "stderr",
     "output_type": "stream",
     "text": [
      "2024-04-28 16:53:06.043402: I tensorflow/core/common_runtime/gpu/gpu_device.cc:1928] Created device /job:localhost/replica:0/task:0/device:GPU:0 with 1365 MB memory:  -> device: 0, name: NVIDIA GeForce RTX 3060, pci bus id: 0000:01:00.0, compute capability: 8.6\n"
     ]
    },
    {
     "name": "stdout",
     "output_type": "stream",
     "text": [
      "Epoch 1/200\n"
     ]
    },
    {
     "name": "stderr",
     "output_type": "stream",
     "text": [
      "WARNING: All log messages before absl::InitializeLog() is called are written to STDERR\n",
      "I0000 00:00:1714315987.538078  108931 service.cc:145] XLA service 0x75dc1401d9a0 initialized for platform CUDA (this does not guarantee that XLA will be used). Devices:\n",
      "I0000 00:00:1714315987.538113  108931 service.cc:153]   StreamExecutor device (0): NVIDIA GeForce RTX 3060, Compute Capability 8.6\n",
      "2024-04-28 16:53:07.560650: I tensorflow/compiler/mlir/tensorflow/utils/dump_mlir_util.cc:268] disabling MLIR crash reproducer, set env var `MLIR_CRASH_REPRODUCER_DIRECTORY` to enable.\n",
      "2024-04-28 16:53:07.664479: I external/local_xla/xla/stream_executor/cuda/cuda_dnn.cc:465] Loaded cuDNN version 8907\n"
     ]
    },
    {
     "name": "stdout",
     "output_type": "stream",
     "text": [
      "\u001b[1m21/98\u001b[0m \u001b[32m━━━━\u001b[0m\u001b[37m━━━━━━━━━━━━━━━━\u001b[0m \u001b[1m0s\u001b[0m 8ms/step - accuracy: 0.1143 - loss: 2.2958"
     ]
    },
    {
     "name": "stderr",
     "output_type": "stream",
     "text": [
      "I0000 00:00:1714315991.495352  108931 device_compiler.h:188] Compiled cluster using XLA!  This line is logged at most once for the lifetime of the process.\n"
     ]
    },
    {
     "name": "stdout",
     "output_type": "stream",
     "text": [
      "\u001b[1m91/98\u001b[0m \u001b[32m━━━━━━━━━━━━━━━━━━\u001b[0m\u001b[37m━━\u001b[0m \u001b[1m0s\u001b[0m 8ms/step - accuracy: 0.1737 - loss: 2.1860"
     ]
    },
    {
     "name": "stderr",
     "output_type": "stream",
     "text": [
      "WARNING: All log messages before absl::InitializeLog() is called are written to STDERR\n",
      "I0000 00:00:1714315993.445079  109040 asm_compiler.cc:369] ptxas warning : Registers are spilled to local memory in function 'triton_gemm_dot_1628', 4 bytes spill stores, 4 bytes spill loads\n",
      "\n"
     ]
    },
    {
     "name": "stdout",
     "output_type": "stream",
     "text": [
      "\u001b[1m98/98\u001b[0m \u001b[32m━━━━━━━━━━━━━━━━━━━━\u001b[0m\u001b[37m\u001b[0m \u001b[1m0s\u001b[0m 43ms/step - accuracy: 0.1783 - loss: 2.1759"
     ]
    },
    {
     "name": "stderr",
     "output_type": "stream",
     "text": [
      "I0000 00:00:1714315996.053135  109103 asm_compiler.cc:369] ptxas warning : Registers are spilled to local memory in function 'triton_gemm_dot_93', 8 bytes spill stores, 8 bytes spill loads\n",
      "\n"
     ]
    },
    {
     "name": "stdout",
     "output_type": "stream",
     "text": [
      "\u001b[1m98/98\u001b[0m \u001b[32m━━━━━━━━━━━━━━━━━━━━\u001b[0m\u001b[37m\u001b[0m \u001b[1m10s\u001b[0m 54ms/step - accuracy: 0.1790 - loss: 2.1745 - val_accuracy: 0.3928 - val_loss: 1.7302\n",
      "Epoch 2/200\n",
      "\u001b[1m98/98\u001b[0m \u001b[32m━━━━━━━━━━━━━━━━━━━━\u001b[0m\u001b[37m\u001b[0m \u001b[1m1s\u001b[0m 9ms/step - accuracy: 0.3599 - loss: 1.7369 - val_accuracy: 0.4641 - val_loss: 1.5091\n",
      "Epoch 3/200\n",
      "\u001b[1m98/98\u001b[0m \u001b[32m━━━━━━━━━━━━━━━━━━━━\u001b[0m\u001b[37m\u001b[0m \u001b[1m1s\u001b[0m 9ms/step - accuracy: 0.4261 - loss: 1.5749 - val_accuracy: 0.4960 - val_loss: 1.4499\n",
      "Epoch 4/200\n",
      "\u001b[1m98/98\u001b[0m \u001b[32m━━━━━━━━━━━━━━━━━━━━\u001b[0m\u001b[37m\u001b[0m \u001b[1m1s\u001b[0m 9ms/step - accuracy: 0.4595 - loss: 1.4881 - val_accuracy: 0.5365 - val_loss: 1.3110\n",
      "Epoch 5/200\n",
      "\u001b[1m98/98\u001b[0m \u001b[32m━━━━━━━━━━━━━━━━━━━━\u001b[0m\u001b[37m\u001b[0m \u001b[1m1s\u001b[0m 9ms/step - accuracy: 0.4949 - loss: 1.4043 - val_accuracy: 0.5564 - val_loss: 1.2550\n",
      "Epoch 6/200\n",
      "\u001b[1m98/98\u001b[0m \u001b[32m━━━━━━━━━━━━━━━━━━━━\u001b[0m\u001b[37m\u001b[0m \u001b[1m1s\u001b[0m 9ms/step - accuracy: 0.5174 - loss: 1.3529 - val_accuracy: 0.5736 - val_loss: 1.2076\n",
      "Epoch 7/200\n",
      "\u001b[1m98/98\u001b[0m \u001b[32m━━━━━━━━━━━━━━━━━━━━\u001b[0m\u001b[37m\u001b[0m \u001b[1m1s\u001b[0m 9ms/step - accuracy: 0.5245 - loss: 1.3201 - val_accuracy: 0.5741 - val_loss: 1.2140\n",
      "Epoch 8/200\n",
      "\u001b[1m98/98\u001b[0m \u001b[32m━━━━━━━━━━━━━━━━━━━━\u001b[0m\u001b[37m\u001b[0m \u001b[1m1s\u001b[0m 9ms/step - accuracy: 0.5371 - loss: 1.2895 - val_accuracy: 0.6038 - val_loss: 1.1380\n",
      "Epoch 9/200\n",
      "\u001b[1m98/98\u001b[0m \u001b[32m━━━━━━━━━━━━━━━━━━━━\u001b[0m\u001b[37m\u001b[0m \u001b[1m1s\u001b[0m 9ms/step - accuracy: 0.5553 - loss: 1.2438 - val_accuracy: 0.6186 - val_loss: 1.0954\n",
      "Epoch 10/200\n",
      "\u001b[1m98/98\u001b[0m \u001b[32m━━━━━━━━━━━━━━━━━━━━\u001b[0m\u001b[37m\u001b[0m \u001b[1m1s\u001b[0m 8ms/step - accuracy: 0.5682 - loss: 1.2176 - val_accuracy: 0.6284 - val_loss: 1.0807\n",
      "Epoch 11/200\n",
      "\u001b[1m98/98\u001b[0m \u001b[32m━━━━━━━━━━━━━━━━━━━━\u001b[0m\u001b[37m\u001b[0m \u001b[1m1s\u001b[0m 9ms/step - accuracy: 0.5758 - loss: 1.1895 - val_accuracy: 0.6389 - val_loss: 1.0551\n",
      "Epoch 12/200\n",
      "\u001b[1m98/98\u001b[0m \u001b[32m━━━━━━━━━━━━━━━━━━━━\u001b[0m\u001b[37m\u001b[0m \u001b[1m1s\u001b[0m 9ms/step - accuracy: 0.5834 - loss: 1.1626 - val_accuracy: 0.6387 - val_loss: 1.0451\n",
      "Epoch 13/200\n",
      "\u001b[1m98/98\u001b[0m \u001b[32m━━━━━━━━━━━━━━━━━━━━\u001b[0m\u001b[37m\u001b[0m \u001b[1m1s\u001b[0m 9ms/step - accuracy: 0.5958 - loss: 1.1354 - val_accuracy: 0.6565 - val_loss: 1.0120\n",
      "Epoch 14/200\n",
      "\u001b[1m98/98\u001b[0m \u001b[32m━━━━━━━━━━━━━━━━━━━━\u001b[0m\u001b[37m\u001b[0m \u001b[1m1s\u001b[0m 8ms/step - accuracy: 0.6081 - loss: 1.1116 - val_accuracy: 0.6664 - val_loss: 0.9726\n",
      "Epoch 15/200\n",
      "\u001b[1m98/98\u001b[0m \u001b[32m━━━━━━━━━━━━━━━━━━━━\u001b[0m\u001b[37m\u001b[0m \u001b[1m1s\u001b[0m 8ms/step - accuracy: 0.6041 - loss: 1.1102 - val_accuracy: 0.6693 - val_loss: 0.9616\n",
      "Epoch 16/200\n",
      "\u001b[1m98/98\u001b[0m \u001b[32m━━━━━━━━━━━━━━━━━━━━\u001b[0m\u001b[37m\u001b[0m \u001b[1m1s\u001b[0m 9ms/step - accuracy: 0.6186 - loss: 1.0736 - val_accuracy: 0.6807 - val_loss: 0.9458\n",
      "Epoch 17/200\n",
      "\u001b[1m98/98\u001b[0m \u001b[32m━━━━━━━━━━━━━━━━━━━━\u001b[0m\u001b[37m\u001b[0m \u001b[1m1s\u001b[0m 9ms/step - accuracy: 0.6230 - loss: 1.0593 - val_accuracy: 0.6797 - val_loss: 0.9380\n",
      "Epoch 18/200\n",
      "\u001b[1m98/98\u001b[0m \u001b[32m━━━━━━━━━━━━━━━━━━━━\u001b[0m\u001b[37m\u001b[0m \u001b[1m1s\u001b[0m 8ms/step - accuracy: 0.6279 - loss: 1.0488 - val_accuracy: 0.6750 - val_loss: 0.9410\n",
      "Epoch 19/200\n",
      "\u001b[1m98/98\u001b[0m \u001b[32m━━━━━━━━━━━━━━━━━━━━\u001b[0m\u001b[37m\u001b[0m \u001b[1m1s\u001b[0m 9ms/step - accuracy: 0.6374 - loss: 1.0227 - val_accuracy: 0.6877 - val_loss: 0.9076\n",
      "Epoch 20/200\n",
      "\u001b[1m98/98\u001b[0m \u001b[32m━━━━━━━━━━━━━━━━━━━━\u001b[0m\u001b[37m\u001b[0m \u001b[1m1s\u001b[0m 9ms/step - accuracy: 0.6458 - loss: 1.0025 - val_accuracy: 0.6899 - val_loss: 0.9057\n",
      "Epoch 21/200\n",
      "\u001b[1m98/98\u001b[0m \u001b[32m━━━━━━━━━━━━━━━━━━━━\u001b[0m\u001b[37m\u001b[0m \u001b[1m1s\u001b[0m 9ms/step - accuracy: 0.6462 - loss: 1.0021 - val_accuracy: 0.6967 - val_loss: 0.8888\n",
      "Epoch 22/200\n",
      "\u001b[1m98/98\u001b[0m \u001b[32m━━━━━━━━━━━━━━━━━━━━\u001b[0m\u001b[37m\u001b[0m \u001b[1m1s\u001b[0m 9ms/step - accuracy: 0.6470 - loss: 0.9933 - val_accuracy: 0.6956 - val_loss: 0.8835\n",
      "Epoch 23/200\n",
      "\u001b[1m98/98\u001b[0m \u001b[32m━━━━━━━━━━━━━━━━━━━━\u001b[0m\u001b[37m\u001b[0m \u001b[1m1s\u001b[0m 9ms/step - accuracy: 0.6589 - loss: 0.9658 - val_accuracy: 0.7041 - val_loss: 0.8652\n",
      "Epoch 24/200\n",
      "\u001b[1m98/98\u001b[0m \u001b[32m━━━━━━━━━━━━━━━━━━━━\u001b[0m\u001b[37m\u001b[0m \u001b[1m1s\u001b[0m 9ms/step - accuracy: 0.6584 - loss: 0.9544 - val_accuracy: 0.7055 - val_loss: 0.8561\n",
      "Epoch 25/200\n",
      "\u001b[1m98/98\u001b[0m \u001b[32m━━━━━━━━━━━━━━━━━━━━\u001b[0m\u001b[37m\u001b[0m \u001b[1m1s\u001b[0m 9ms/step - accuracy: 0.6660 - loss: 0.9487 - val_accuracy: 0.7085 - val_loss: 0.8401\n",
      "Epoch 26/200\n",
      "\u001b[1m98/98\u001b[0m \u001b[32m━━━━━━━━━━━━━━━━━━━━\u001b[0m\u001b[37m\u001b[0m \u001b[1m1s\u001b[0m 9ms/step - accuracy: 0.6650 - loss: 0.9393 - val_accuracy: 0.7081 - val_loss: 0.8380\n",
      "Epoch 27/200\n",
      "\u001b[1m98/98\u001b[0m \u001b[32m━━━━━━━━━━━━━━━━━━━━\u001b[0m\u001b[37m\u001b[0m \u001b[1m1s\u001b[0m 9ms/step - accuracy: 0.6720 - loss: 0.9287 - val_accuracy: 0.7067 - val_loss: 0.8412\n",
      "Epoch 28/200\n",
      "\u001b[1m98/98\u001b[0m \u001b[32m━━━━━━━━━━━━━━━━━━━━\u001b[0m\u001b[37m\u001b[0m \u001b[1m1s\u001b[0m 9ms/step - accuracy: 0.6811 - loss: 0.9136 - val_accuracy: 0.7132 - val_loss: 0.8227\n",
      "Epoch 29/200\n",
      "\u001b[1m98/98\u001b[0m \u001b[32m━━━━━━━━━━━━━━━━━━━━\u001b[0m\u001b[37m\u001b[0m \u001b[1m1s\u001b[0m 8ms/step - accuracy: 0.6727 - loss: 0.9189 - val_accuracy: 0.7157 - val_loss: 0.8176\n",
      "Epoch 30/200\n",
      "\u001b[1m98/98\u001b[0m \u001b[32m━━━━━━━━━━━━━━━━━━━━\u001b[0m\u001b[37m\u001b[0m \u001b[1m1s\u001b[0m 9ms/step - accuracy: 0.6848 - loss: 0.8969 - val_accuracy: 0.7220 - val_loss: 0.7972\n",
      "Epoch 31/200\n",
      "\u001b[1m98/98\u001b[0m \u001b[32m━━━━━━━━━━━━━━━━━━━━\u001b[0m\u001b[37m\u001b[0m \u001b[1m1s\u001b[0m 9ms/step - accuracy: 0.6886 - loss: 0.8849 - val_accuracy: 0.7212 - val_loss: 0.8168\n",
      "Epoch 32/200\n",
      "\u001b[1m98/98\u001b[0m \u001b[32m━━━━━━━━━━━━━━━━━━━━\u001b[0m\u001b[37m\u001b[0m \u001b[1m1s\u001b[0m 9ms/step - accuracy: 0.6897 - loss: 0.8754 - val_accuracy: 0.7174 - val_loss: 0.8144\n",
      "Epoch 33/200\n",
      "\u001b[1m98/98\u001b[0m \u001b[32m━━━━━━━━━━━━━━━━━━━━\u001b[0m\u001b[37m\u001b[0m \u001b[1m1s\u001b[0m 8ms/step - accuracy: 0.6927 - loss: 0.8727 - val_accuracy: 0.7220 - val_loss: 0.8024\n",
      "Epoch 34/200\n",
      "\u001b[1m98/98\u001b[0m \u001b[32m━━━━━━━━━━━━━━━━━━━━\u001b[0m\u001b[37m\u001b[0m \u001b[1m1s\u001b[0m 9ms/step - accuracy: 0.6949 - loss: 0.8606 - val_accuracy: 0.7289 - val_loss: 0.7871\n",
      "Epoch 35/200\n",
      "\u001b[1m98/98\u001b[0m \u001b[32m━━━━━━━━━━━━━━━━━━━━\u001b[0m\u001b[37m\u001b[0m \u001b[1m1s\u001b[0m 9ms/step - accuracy: 0.6953 - loss: 0.8598 - val_accuracy: 0.7297 - val_loss: 0.7821\n",
      "Epoch 36/200\n",
      "\u001b[1m98/98\u001b[0m \u001b[32m━━━━━━━━━━━━━━━━━━━━\u001b[0m\u001b[37m\u001b[0m \u001b[1m1s\u001b[0m 9ms/step - accuracy: 0.7020 - loss: 0.8454 - val_accuracy: 0.7344 - val_loss: 0.7714\n",
      "Epoch 37/200\n",
      "\u001b[1m98/98\u001b[0m \u001b[32m━━━━━━━━━━━━━━━━━━━━\u001b[0m\u001b[37m\u001b[0m \u001b[1m1s\u001b[0m 9ms/step - accuracy: 0.7039 - loss: 0.8378 - val_accuracy: 0.7303 - val_loss: 0.7817\n",
      "Epoch 38/200\n",
      "\u001b[1m98/98\u001b[0m \u001b[32m━━━━━━━━━━━━━━━━━━━━\u001b[0m\u001b[37m\u001b[0m \u001b[1m1s\u001b[0m 9ms/step - accuracy: 0.7054 - loss: 0.8357 - val_accuracy: 0.7273 - val_loss: 0.7831\n",
      "Epoch 39/200\n",
      "\u001b[1m98/98\u001b[0m \u001b[32m━━━━━━━━━━━━━━━━━━━━\u001b[0m\u001b[37m\u001b[0m \u001b[1m1s\u001b[0m 8ms/step - accuracy: 0.7049 - loss: 0.8322 - val_accuracy: 0.7420 - val_loss: 0.7497\n",
      "Epoch 40/200\n",
      "\u001b[1m98/98\u001b[0m \u001b[32m━━━━━━━━━━━━━━━━━━━━\u001b[0m\u001b[37m\u001b[0m \u001b[1m1s\u001b[0m 8ms/step - accuracy: 0.7153 - loss: 0.8072 - val_accuracy: 0.7424 - val_loss: 0.7499\n",
      "Epoch 41/200\n",
      "\u001b[1m98/98\u001b[0m \u001b[32m━━━━━━━━━━━━━━━━━━━━\u001b[0m\u001b[37m\u001b[0m \u001b[1m1s\u001b[0m 9ms/step - accuracy: 0.7068 - loss: 0.8278 - val_accuracy: 0.7408 - val_loss: 0.7505\n",
      "Epoch 42/200\n",
      "\u001b[1m98/98\u001b[0m \u001b[32m━━━━━━━━━━━━━━━━━━━━\u001b[0m\u001b[37m\u001b[0m \u001b[1m1s\u001b[0m 9ms/step - accuracy: 0.7124 - loss: 0.8050 - val_accuracy: 0.7361 - val_loss: 0.7602\n",
      "Epoch 43/200\n",
      "\u001b[1m98/98\u001b[0m \u001b[32m━━━━━━━━━━━━━━━━━━━━\u001b[0m\u001b[37m\u001b[0m \u001b[1m1s\u001b[0m 8ms/step - accuracy: 0.7197 - loss: 0.8035 - val_accuracy: 0.7422 - val_loss: 0.7562\n",
      "Epoch 44/200\n",
      "\u001b[1m98/98\u001b[0m \u001b[32m━━━━━━━━━━━━━━━━━━━━\u001b[0m\u001b[37m\u001b[0m \u001b[1m1s\u001b[0m 9ms/step - accuracy: 0.7173 - loss: 0.7982 - val_accuracy: 0.7470 - val_loss: 0.7301\n",
      "Epoch 45/200\n",
      "\u001b[1m98/98\u001b[0m \u001b[32m━━━━━━━━━━━━━━━━━━━━\u001b[0m\u001b[37m\u001b[0m \u001b[1m1s\u001b[0m 9ms/step - accuracy: 0.7208 - loss: 0.7856 - val_accuracy: 0.7461 - val_loss: 0.7355\n",
      "Epoch 46/200\n",
      "\u001b[1m98/98\u001b[0m \u001b[32m━━━━━━━━━━━━━━━━━━━━\u001b[0m\u001b[37m\u001b[0m \u001b[1m1s\u001b[0m 9ms/step - accuracy: 0.7177 - loss: 0.7937 - val_accuracy: 0.7446 - val_loss: 0.7415\n",
      "Epoch 47/200\n",
      "\u001b[1m98/98\u001b[0m \u001b[32m━━━━━━━━━━━━━━━━━━━━\u001b[0m\u001b[37m\u001b[0m \u001b[1m1s\u001b[0m 9ms/step - accuracy: 0.7213 - loss: 0.7839 - val_accuracy: 0.7452 - val_loss: 0.7408\n",
      "Epoch 48/200\n",
      "\u001b[1m98/98\u001b[0m \u001b[32m━━━━━━━━━━━━━━━━━━━━\u001b[0m\u001b[37m\u001b[0m \u001b[1m1s\u001b[0m 9ms/step - accuracy: 0.7309 - loss: 0.7678 - val_accuracy: 0.7493 - val_loss: 0.7279\n",
      "Epoch 49/200\n",
      "\u001b[1m98/98\u001b[0m \u001b[32m━━━━━━━━━━━━━━━━━━━━\u001b[0m\u001b[37m\u001b[0m \u001b[1m1s\u001b[0m 9ms/step - accuracy: 0.7313 - loss: 0.7594 - val_accuracy: 0.7506 - val_loss: 0.7274\n",
      "Epoch 50/200\n",
      "\u001b[1m98/98\u001b[0m \u001b[32m━━━━━━━━━━━━━━━━━━━━\u001b[0m\u001b[37m\u001b[0m \u001b[1m1s\u001b[0m 9ms/step - accuracy: 0.7317 - loss: 0.7566 - val_accuracy: 0.7415 - val_loss: 0.7444\n",
      "Epoch 51/200\n",
      "\u001b[1m98/98\u001b[0m \u001b[32m━━━━━━━━━━━━━━━━━━━━\u001b[0m\u001b[37m\u001b[0m \u001b[1m1s\u001b[0m 9ms/step - accuracy: 0.7277 - loss: 0.7743 - val_accuracy: 0.7583 - val_loss: 0.7065\n",
      "Epoch 52/200\n",
      "\u001b[1m98/98\u001b[0m \u001b[32m━━━━━━━━━━━━━━━━━━━━\u001b[0m\u001b[37m\u001b[0m \u001b[1m1s\u001b[0m 8ms/step - accuracy: 0.7328 - loss: 0.7558 - val_accuracy: 0.7539 - val_loss: 0.7176\n",
      "Epoch 53/200\n",
      "\u001b[1m98/98\u001b[0m \u001b[32m━━━━━━━━━━━━━━━━━━━━\u001b[0m\u001b[37m\u001b[0m \u001b[1m1s\u001b[0m 9ms/step - accuracy: 0.7323 - loss: 0.7509 - val_accuracy: 0.7578 - val_loss: 0.7010\n",
      "Epoch 54/200\n",
      "\u001b[1m98/98\u001b[0m \u001b[32m━━━━━━━━━━━━━━━━━━━━\u001b[0m\u001b[37m\u001b[0m \u001b[1m1s\u001b[0m 9ms/step - accuracy: 0.7446 - loss: 0.7245 - val_accuracy: 0.7602 - val_loss: 0.7026\n",
      "Epoch 55/200\n",
      "\u001b[1m98/98\u001b[0m \u001b[32m━━━━━━━━━━━━━━━━━━━━\u001b[0m\u001b[37m\u001b[0m \u001b[1m1s\u001b[0m 9ms/step - accuracy: 0.7359 - loss: 0.7424 - val_accuracy: 0.7501 - val_loss: 0.7170\n",
      "Epoch 56/200\n",
      "\u001b[1m98/98\u001b[0m \u001b[32m━━━━━━━━━━━━━━━━━━━━\u001b[0m\u001b[37m\u001b[0m \u001b[1m1s\u001b[0m 9ms/step - accuracy: 0.7413 - loss: 0.7372 - val_accuracy: 0.7582 - val_loss: 0.7024\n",
      "Epoch 57/200\n",
      "\u001b[1m98/98\u001b[0m \u001b[32m━━━━━━━━━━━━━━━━━━━━\u001b[0m\u001b[37m\u001b[0m \u001b[1m1s\u001b[0m 8ms/step - accuracy: 0.7423 - loss: 0.7271 - val_accuracy: 0.7615 - val_loss: 0.6879\n",
      "Epoch 58/200\n",
      "\u001b[1m98/98\u001b[0m \u001b[32m━━━━━━━━━━━━━━━━━━━━\u001b[0m\u001b[37m\u001b[0m \u001b[1m1s\u001b[0m 8ms/step - accuracy: 0.7393 - loss: 0.7370 - val_accuracy: 0.7580 - val_loss: 0.6980\n",
      "Epoch 59/200\n",
      "\u001b[1m98/98\u001b[0m \u001b[32m━━━━━━━━━━━━━━━━━━━━\u001b[0m\u001b[37m\u001b[0m \u001b[1m1s\u001b[0m 9ms/step - accuracy: 0.7444 - loss: 0.7211 - val_accuracy: 0.7570 - val_loss: 0.6894\n",
      "Epoch 60/200\n",
      "\u001b[1m98/98\u001b[0m \u001b[32m━━━━━━━━━━━━━━━━━━━━\u001b[0m\u001b[37m\u001b[0m \u001b[1m1s\u001b[0m 9ms/step - accuracy: 0.7459 - loss: 0.7151 - val_accuracy: 0.7630 - val_loss: 0.6852\n",
      "Epoch 61/200\n",
      "\u001b[1m98/98\u001b[0m \u001b[32m━━━━━━━━━━━━━━━━━━━━\u001b[0m\u001b[37m\u001b[0m \u001b[1m1s\u001b[0m 9ms/step - accuracy: 0.7470 - loss: 0.7156 - val_accuracy: 0.7637 - val_loss: 0.6867\n",
      "Epoch 62/200\n",
      "\u001b[1m98/98\u001b[0m \u001b[32m━━━━━━━━━━━━━━━━━━━━\u001b[0m\u001b[37m\u001b[0m \u001b[1m1s\u001b[0m 9ms/step - accuracy: 0.7510 - loss: 0.7075 - val_accuracy: 0.7611 - val_loss: 0.6902\n",
      "Epoch 63/200\n",
      "\u001b[1m98/98\u001b[0m \u001b[32m━━━━━━━━━━━━━━━━━━━━\u001b[0m\u001b[37m\u001b[0m \u001b[1m1s\u001b[0m 9ms/step - accuracy: 0.7509 - loss: 0.7053 - val_accuracy: 0.7543 - val_loss: 0.7044\n",
      "Epoch 64/200\n",
      "\u001b[1m98/98\u001b[0m \u001b[32m━━━━━━━━━━━━━━━━━━━━\u001b[0m\u001b[37m\u001b[0m \u001b[1m1s\u001b[0m 9ms/step - accuracy: 0.7503 - loss: 0.7075 - val_accuracy: 0.7632 - val_loss: 0.6890\n",
      "Epoch 65/200\n",
      "\u001b[1m98/98\u001b[0m \u001b[32m━━━━━━━━━━━━━━━━━━━━\u001b[0m\u001b[37m\u001b[0m \u001b[1m1s\u001b[0m 9ms/step - accuracy: 0.7554 - loss: 0.6922 - val_accuracy: 0.7669 - val_loss: 0.6759\n",
      "Epoch 66/200\n",
      "\u001b[1m98/98\u001b[0m \u001b[32m━━━━━━━━━━━━━━━━━━━━\u001b[0m\u001b[37m\u001b[0m \u001b[1m1s\u001b[0m 9ms/step - accuracy: 0.7598 - loss: 0.6762 - val_accuracy: 0.7643 - val_loss: 0.6849\n",
      "Epoch 67/200\n",
      "\u001b[1m98/98\u001b[0m \u001b[32m━━━━━━━━━━━━━━━━━━━━\u001b[0m\u001b[37m\u001b[0m \u001b[1m1s\u001b[0m 9ms/step - accuracy: 0.7534 - loss: 0.6948 - val_accuracy: 0.7699 - val_loss: 0.6684\n",
      "Epoch 68/200\n",
      "\u001b[1m98/98\u001b[0m \u001b[32m━━━━━━━━━━━━━━━━━━━━\u001b[0m\u001b[37m\u001b[0m \u001b[1m1s\u001b[0m 9ms/step - accuracy: 0.7551 - loss: 0.6908 - val_accuracy: 0.7657 - val_loss: 0.6777\n",
      "Epoch 69/200\n",
      "\u001b[1m98/98\u001b[0m \u001b[32m━━━━━━━━━━━━━━━━━━━━\u001b[0m\u001b[37m\u001b[0m \u001b[1m1s\u001b[0m 9ms/step - accuracy: 0.7612 - loss: 0.6783 - val_accuracy: 0.7651 - val_loss: 0.6830\n",
      "Epoch 70/200\n",
      "\u001b[1m98/98\u001b[0m \u001b[32m━━━━━━━━━━━━━━━━━━━━\u001b[0m\u001b[37m\u001b[0m \u001b[1m1s\u001b[0m 9ms/step - accuracy: 0.7605 - loss: 0.6780 - val_accuracy: 0.7657 - val_loss: 0.6717\n",
      "Epoch 71/200\n",
      "\u001b[1m98/98\u001b[0m \u001b[32m━━━━━━━━━━━━━━━━━━━━\u001b[0m\u001b[37m\u001b[0m \u001b[1m1s\u001b[0m 8ms/step - accuracy: 0.7613 - loss: 0.6777 - val_accuracy: 0.7686 - val_loss: 0.6637\n",
      "Epoch 72/200\n",
      "\u001b[1m98/98\u001b[0m \u001b[32m━━━━━━━━━━━━━━━━━━━━\u001b[0m\u001b[37m\u001b[0m \u001b[1m1s\u001b[0m 9ms/step - accuracy: 0.7621 - loss: 0.6684 - val_accuracy: 0.7699 - val_loss: 0.6733\n",
      "Epoch 73/200\n",
      "\u001b[1m98/98\u001b[0m \u001b[32m━━━━━━━━━━━━━━━━━━━━\u001b[0m\u001b[37m\u001b[0m \u001b[1m1s\u001b[0m 9ms/step - accuracy: 0.7659 - loss: 0.6629 - val_accuracy: 0.7634 - val_loss: 0.6906\n",
      "Epoch 74/200\n",
      "\u001b[1m98/98\u001b[0m \u001b[32m━━━━━━━━━━━━━━━━━━━━\u001b[0m\u001b[37m\u001b[0m \u001b[1m1s\u001b[0m 9ms/step - accuracy: 0.7686 - loss: 0.6617 - val_accuracy: 0.7658 - val_loss: 0.6746\n",
      "Epoch 75/200\n",
      "\u001b[1m98/98\u001b[0m \u001b[32m━━━━━━━━━━━━━━━━━━━━\u001b[0m\u001b[37m\u001b[0m \u001b[1m1s\u001b[0m 9ms/step - accuracy: 0.7636 - loss: 0.6637 - val_accuracy: 0.7737 - val_loss: 0.6577\n",
      "Epoch 76/200\n",
      "\u001b[1m98/98\u001b[0m \u001b[32m━━━━━━━━━━━━━━━━━━━━\u001b[0m\u001b[37m\u001b[0m \u001b[1m1s\u001b[0m 9ms/step - accuracy: 0.7660 - loss: 0.6577 - val_accuracy: 0.7690 - val_loss: 0.6679\n",
      "Epoch 77/200\n",
      "\u001b[1m98/98\u001b[0m \u001b[32m━━━━━━━━━━━━━━━━━━━━\u001b[0m\u001b[37m\u001b[0m \u001b[1m1s\u001b[0m 9ms/step - accuracy: 0.7617 - loss: 0.6711 - val_accuracy: 0.7717 - val_loss: 0.6675\n",
      "Epoch 78/200\n",
      "\u001b[1m98/98\u001b[0m \u001b[32m━━━━━━━━━━━━━━━━━━━━\u001b[0m\u001b[37m\u001b[0m \u001b[1m1s\u001b[0m 9ms/step - accuracy: 0.7693 - loss: 0.6524 - val_accuracy: 0.7696 - val_loss: 0.6635\n",
      "Epoch 79/200\n",
      "\u001b[1m98/98\u001b[0m \u001b[32m━━━━━━━━━━━━━━━━━━━━\u001b[0m\u001b[37m\u001b[0m \u001b[1m1s\u001b[0m 9ms/step - accuracy: 0.7669 - loss: 0.6547 - val_accuracy: 0.7696 - val_loss: 0.6659\n",
      "Epoch 80/200\n",
      "\u001b[1m98/98\u001b[0m \u001b[32m━━━━━━━━━━━━━━━━━━━━\u001b[0m\u001b[37m\u001b[0m \u001b[1m1s\u001b[0m 9ms/step - accuracy: 0.7752 - loss: 0.6338 - val_accuracy: 0.7693 - val_loss: 0.6661\n",
      "Epoch 81/200\n",
      "\u001b[1m98/98\u001b[0m \u001b[32m━━━━━━━━━━━━━━━━━━━━\u001b[0m\u001b[37m\u001b[0m \u001b[1m1s\u001b[0m 9ms/step - accuracy: 0.7706 - loss: 0.6495 - val_accuracy: 0.7789 - val_loss: 0.6544\n",
      "Epoch 82/200\n",
      "\u001b[1m98/98\u001b[0m \u001b[32m━━━━━━━━━━━━━━━━━━━━\u001b[0m\u001b[37m\u001b[0m \u001b[1m1s\u001b[0m 9ms/step - accuracy: 0.7752 - loss: 0.6386 - val_accuracy: 0.7736 - val_loss: 0.6650\n",
      "Epoch 83/200\n",
      "\u001b[1m98/98\u001b[0m \u001b[32m━━━━━━━━━━━━━━━━━━━━\u001b[0m\u001b[37m\u001b[0m \u001b[1m1s\u001b[0m 9ms/step - accuracy: 0.7708 - loss: 0.6479 - val_accuracy: 0.7688 - val_loss: 0.6610\n",
      "Epoch 84/200\n",
      "\u001b[1m98/98\u001b[0m \u001b[32m━━━━━━━━━━━━━━━━━━━━\u001b[0m\u001b[37m\u001b[0m \u001b[1m1s\u001b[0m 9ms/step - accuracy: 0.7738 - loss: 0.6387 - val_accuracy: 0.7783 - val_loss: 0.6445\n",
      "Epoch 85/200\n",
      "\u001b[1m98/98\u001b[0m \u001b[32m━━━━━━━━━━━━━━━━━━━━\u001b[0m\u001b[37m\u001b[0m \u001b[1m1s\u001b[0m 8ms/step - accuracy: 0.7751 - loss: 0.6248 - val_accuracy: 0.7782 - val_loss: 0.6503\n",
      "Epoch 86/200\n",
      "\u001b[1m98/98\u001b[0m \u001b[32m━━━━━━━━━━━━━━━━━━━━\u001b[0m\u001b[37m\u001b[0m \u001b[1m1s\u001b[0m 9ms/step - accuracy: 0.7768 - loss: 0.6304 - val_accuracy: 0.7702 - val_loss: 0.6630\n",
      "Epoch 87/200\n",
      "\u001b[1m98/98\u001b[0m \u001b[32m━━━━━━━━━━━━━━━━━━━━\u001b[0m\u001b[37m\u001b[0m \u001b[1m1s\u001b[0m 9ms/step - accuracy: 0.7723 - loss: 0.6405 - val_accuracy: 0.7787 - val_loss: 0.6467\n",
      "Epoch 88/200\n",
      "\u001b[1m98/98\u001b[0m \u001b[32m━━━━━━━━━━━━━━━━━━━━\u001b[0m\u001b[37m\u001b[0m \u001b[1m1s\u001b[0m 9ms/step - accuracy: 0.7788 - loss: 0.6268 - val_accuracy: 0.7765 - val_loss: 0.6442\n",
      "Epoch 89/200\n",
      "\u001b[1m98/98\u001b[0m \u001b[32m━━━━━━━━━━━━━━━━━━━━\u001b[0m\u001b[37m\u001b[0m \u001b[1m1s\u001b[0m 9ms/step - accuracy: 0.7774 - loss: 0.6300 - val_accuracy: 0.7775 - val_loss: 0.6481\n",
      "Epoch 90/200\n",
      "\u001b[1m98/98\u001b[0m \u001b[32m━━━━━━━━━━━━━━━━━━━━\u001b[0m\u001b[37m\u001b[0m \u001b[1m1s\u001b[0m 9ms/step - accuracy: 0.7774 - loss: 0.6307 - val_accuracy: 0.7780 - val_loss: 0.6523\n",
      "Epoch 91/200\n",
      "\u001b[1m98/98\u001b[0m \u001b[32m━━━━━━━━━━━━━━━━━━━━\u001b[0m\u001b[37m\u001b[0m \u001b[1m1s\u001b[0m 9ms/step - accuracy: 0.7774 - loss: 0.6245 - val_accuracy: 0.7726 - val_loss: 0.6573\n",
      "Epoch 92/200\n",
      "\u001b[1m98/98\u001b[0m \u001b[32m━━━━━━━━━━━━━━━━━━━━\u001b[0m\u001b[37m\u001b[0m \u001b[1m1s\u001b[0m 9ms/step - accuracy: 0.7763 - loss: 0.6195 - val_accuracy: 0.7817 - val_loss: 0.6416\n",
      "Epoch 93/200\n",
      "\u001b[1m98/98\u001b[0m \u001b[32m━━━━━━━━━━━━━━━━━━━━\u001b[0m\u001b[37m\u001b[0m \u001b[1m1s\u001b[0m 9ms/step - accuracy: 0.7816 - loss: 0.6158 - val_accuracy: 0.7854 - val_loss: 0.6395\n",
      "Epoch 94/200\n",
      "\u001b[1m98/98\u001b[0m \u001b[32m━━━━━━━━━━━━━━━━━━━━\u001b[0m\u001b[37m\u001b[0m \u001b[1m1s\u001b[0m 9ms/step - accuracy: 0.7820 - loss: 0.6159 - val_accuracy: 0.7839 - val_loss: 0.6393\n",
      "Epoch 95/200\n",
      "\u001b[1m98/98\u001b[0m \u001b[32m━━━━━━━━━━━━━━━━━━━━\u001b[0m\u001b[37m\u001b[0m \u001b[1m1s\u001b[0m 9ms/step - accuracy: 0.7852 - loss: 0.6052 - val_accuracy: 0.7785 - val_loss: 0.6395\n",
      "Epoch 96/200\n",
      "\u001b[1m98/98\u001b[0m \u001b[32m━━━━━━━━━━━━━━━━━━━━\u001b[0m\u001b[37m\u001b[0m \u001b[1m1s\u001b[0m 9ms/step - accuracy: 0.7847 - loss: 0.6116 - val_accuracy: 0.7777 - val_loss: 0.6468\n",
      "Epoch 97/200\n",
      "\u001b[1m98/98\u001b[0m \u001b[32m━━━━━━━━━━━━━━━━━━━━\u001b[0m\u001b[37m\u001b[0m \u001b[1m1s\u001b[0m 9ms/step - accuracy: 0.7828 - loss: 0.6157 - val_accuracy: 0.7826 - val_loss: 0.6372\n",
      "Epoch 98/200\n",
      "\u001b[1m98/98\u001b[0m \u001b[32m━━━━━━━━━━━━━━━━━━━━\u001b[0m\u001b[37m\u001b[0m \u001b[1m1s\u001b[0m 9ms/step - accuracy: 0.7845 - loss: 0.6056 - val_accuracy: 0.7820 - val_loss: 0.6409\n",
      "Epoch 99/200\n",
      "\u001b[1m98/98\u001b[0m \u001b[32m━━━━━━━━━━━━━━━━━━━━\u001b[0m\u001b[37m\u001b[0m \u001b[1m1s\u001b[0m 9ms/step - accuracy: 0.7869 - loss: 0.5966 - val_accuracy: 0.7824 - val_loss: 0.6426\n",
      "Epoch 100/200\n",
      "\u001b[1m98/98\u001b[0m \u001b[32m━━━━━━━━━━━━━━━━━━━━\u001b[0m\u001b[37m\u001b[0m \u001b[1m1s\u001b[0m 9ms/step - accuracy: 0.7869 - loss: 0.6014 - val_accuracy: 0.7821 - val_loss: 0.6376\n",
      "Epoch 101/200\n",
      "\u001b[1m98/98\u001b[0m \u001b[32m━━━━━━━━━━━━━━━━━━━━\u001b[0m\u001b[37m\u001b[0m \u001b[1m1s\u001b[0m 9ms/step - accuracy: 0.7890 - loss: 0.5902 - val_accuracy: 0.7776 - val_loss: 0.6467\n",
      "Epoch 102/200\n",
      "\u001b[1m98/98\u001b[0m \u001b[32m━━━━━━━━━━━━━━━━━━━━\u001b[0m\u001b[37m\u001b[0m \u001b[1m1s\u001b[0m 9ms/step - accuracy: 0.7870 - loss: 0.5918 - val_accuracy: 0.7803 - val_loss: 0.6374\n",
      "Epoch 103/200\n",
      "\u001b[1m98/98\u001b[0m \u001b[32m━━━━━━━━━━━━━━━━━━━━\u001b[0m\u001b[37m\u001b[0m \u001b[1m1s\u001b[0m 9ms/step - accuracy: 0.7896 - loss: 0.5931 - val_accuracy: 0.7809 - val_loss: 0.6428\n",
      "Epoch 104/200\n",
      "\u001b[1m98/98\u001b[0m \u001b[32m━━━━━━━━━━━━━━━━━━━━\u001b[0m\u001b[37m\u001b[0m \u001b[1m1s\u001b[0m 9ms/step - accuracy: 0.7881 - loss: 0.5964 - val_accuracy: 0.7826 - val_loss: 0.6373\n",
      "Epoch 105/200\n",
      "\u001b[1m98/98\u001b[0m \u001b[32m━━━━━━━━━━━━━━━━━━━━\u001b[0m\u001b[37m\u001b[0m \u001b[1m1s\u001b[0m 9ms/step - accuracy: 0.7907 - loss: 0.5922 - val_accuracy: 0.7815 - val_loss: 0.6312\n",
      "Epoch 106/200\n",
      "\u001b[1m98/98\u001b[0m \u001b[32m━━━━━━━━━━━━━━━━━━━━\u001b[0m\u001b[37m\u001b[0m \u001b[1m1s\u001b[0m 9ms/step - accuracy: 0.7902 - loss: 0.6005 - val_accuracy: 0.7788 - val_loss: 0.6520\n",
      "Epoch 107/200\n",
      "\u001b[1m98/98\u001b[0m \u001b[32m━━━━━━━━━━━━━━━━━━━━\u001b[0m\u001b[37m\u001b[0m \u001b[1m1s\u001b[0m 9ms/step - accuracy: 0.7902 - loss: 0.5911 - val_accuracy: 0.7767 - val_loss: 0.6446\n",
      "Epoch 108/200\n",
      "\u001b[1m98/98\u001b[0m \u001b[32m━━━━━━━━━━━━━━━━━━━━\u001b[0m\u001b[37m\u001b[0m \u001b[1m1s\u001b[0m 9ms/step - accuracy: 0.7884 - loss: 0.5859 - val_accuracy: 0.7864 - val_loss: 0.6334\n",
      "Epoch 109/200\n",
      "\u001b[1m98/98\u001b[0m \u001b[32m━━━━━━━━━━━━━━━━━━━━\u001b[0m\u001b[37m\u001b[0m \u001b[1m1s\u001b[0m 9ms/step - accuracy: 0.7909 - loss: 0.5891 - val_accuracy: 0.7774 - val_loss: 0.6431\n",
      "Epoch 110/200\n",
      "\u001b[1m98/98\u001b[0m \u001b[32m━━━━━━━━━━━━━━━━━━━━\u001b[0m\u001b[37m\u001b[0m \u001b[1m1s\u001b[0m 9ms/step - accuracy: 0.7938 - loss: 0.5817 - val_accuracy: 0.7853 - val_loss: 0.6323\n",
      "Epoch 111/200\n",
      "\u001b[1m98/98\u001b[0m \u001b[32m━━━━━━━━━━━━━━━━━━━━\u001b[0m\u001b[37m\u001b[0m \u001b[1m1s\u001b[0m 9ms/step - accuracy: 0.7980 - loss: 0.5745 - val_accuracy: 0.7774 - val_loss: 0.6439\n",
      "Epoch 112/200\n",
      "\u001b[1m98/98\u001b[0m \u001b[32m━━━━━━━━━━━━━━━━━━━━\u001b[0m\u001b[37m\u001b[0m \u001b[1m1s\u001b[0m 9ms/step - accuracy: 0.7921 - loss: 0.5763 - val_accuracy: 0.7819 - val_loss: 0.6394\n",
      "Epoch 113/200\n",
      "\u001b[1m98/98\u001b[0m \u001b[32m━━━━━━━━━━━━━━━━━━━━\u001b[0m\u001b[37m\u001b[0m \u001b[1m1s\u001b[0m 9ms/step - accuracy: 0.7963 - loss: 0.5771 - val_accuracy: 0.7817 - val_loss: 0.6399\n",
      "Epoch 114/200\n",
      "\u001b[1m98/98\u001b[0m \u001b[32m━━━━━━━━━━━━━━━━━━━━\u001b[0m\u001b[37m\u001b[0m \u001b[1m1s\u001b[0m 9ms/step - accuracy: 0.7924 - loss: 0.5780 - val_accuracy: 0.7836 - val_loss: 0.6319\n",
      "Epoch 115/200\n",
      "\u001b[1m98/98\u001b[0m \u001b[32m━━━━━━━━━━━━━━━━━━━━\u001b[0m\u001b[37m\u001b[0m \u001b[1m1s\u001b[0m 9ms/step - accuracy: 0.7978 - loss: 0.5773 - val_accuracy: 0.7801 - val_loss: 0.6395\n",
      "Epoch 116/200\n",
      "\u001b[1m98/98\u001b[0m \u001b[32m━━━━━━━━━━━━━━━━━━━━\u001b[0m\u001b[37m\u001b[0m \u001b[1m1s\u001b[0m 9ms/step - accuracy: 0.7942 - loss: 0.5737 - val_accuracy: 0.7805 - val_loss: 0.6484\n",
      "Epoch 117/200\n",
      "\u001b[1m98/98\u001b[0m \u001b[32m━━━━━━━━━━━━━━━━━━━━\u001b[0m\u001b[37m\u001b[0m \u001b[1m1s\u001b[0m 9ms/step - accuracy: 0.7937 - loss: 0.5808 - val_accuracy: 0.7878 - val_loss: 0.6271\n",
      "Epoch 118/200\n",
      "\u001b[1m98/98\u001b[0m \u001b[32m━━━━━━━━━━━━━━━━━━━━\u001b[0m\u001b[37m\u001b[0m \u001b[1m1s\u001b[0m 9ms/step - accuracy: 0.7946 - loss: 0.5770 - val_accuracy: 0.7820 - val_loss: 0.6415\n",
      "Epoch 119/200\n",
      "\u001b[1m98/98\u001b[0m \u001b[32m━━━━━━━━━━━━━━━━━━━━\u001b[0m\u001b[37m\u001b[0m \u001b[1m1s\u001b[0m 9ms/step - accuracy: 0.8002 - loss: 0.5655 - val_accuracy: 0.7837 - val_loss: 0.6349\n",
      "Epoch 120/200\n",
      "\u001b[1m98/98\u001b[0m \u001b[32m━━━━━━━━━━━━━━━━━━━━\u001b[0m\u001b[37m\u001b[0m \u001b[1m1s\u001b[0m 9ms/step - accuracy: 0.7998 - loss: 0.5677 - val_accuracy: 0.7907 - val_loss: 0.6237\n",
      "Epoch 121/200\n",
      "\u001b[1m98/98\u001b[0m \u001b[32m━━━━━━━━━━━━━━━━━━━━\u001b[0m\u001b[37m\u001b[0m \u001b[1m1s\u001b[0m 9ms/step - accuracy: 0.8018 - loss: 0.5598 - val_accuracy: 0.7791 - val_loss: 0.6484\n",
      "Epoch 122/200\n",
      "\u001b[1m98/98\u001b[0m \u001b[32m━━━━━━━━━━━━━━━━━━━━\u001b[0m\u001b[37m\u001b[0m \u001b[1m1s\u001b[0m 9ms/step - accuracy: 0.7988 - loss: 0.5731 - val_accuracy: 0.7829 - val_loss: 0.6285\n",
      "Epoch 123/200\n",
      "\u001b[1m98/98\u001b[0m \u001b[32m━━━━━━━━━━━━━━━━━━━━\u001b[0m\u001b[37m\u001b[0m \u001b[1m1s\u001b[0m 9ms/step - accuracy: 0.7996 - loss: 0.5519 - val_accuracy: 0.7839 - val_loss: 0.6318\n",
      "Epoch 124/200\n",
      "\u001b[1m98/98\u001b[0m \u001b[32m━━━━━━━━━━━━━━━━━━━━\u001b[0m\u001b[37m\u001b[0m \u001b[1m1s\u001b[0m 9ms/step - accuracy: 0.7992 - loss: 0.5642 - val_accuracy: 0.7854 - val_loss: 0.6270\n",
      "Epoch 125/200\n",
      "\u001b[1m98/98\u001b[0m \u001b[32m━━━━━━━━━━━━━━━━━━━━\u001b[0m\u001b[37m\u001b[0m \u001b[1m1s\u001b[0m 9ms/step - accuracy: 0.7990 - loss: 0.5614 - val_accuracy: 0.7863 - val_loss: 0.6293\n",
      "Epoch 126/200\n",
      "\u001b[1m98/98\u001b[0m \u001b[32m━━━━━━━━━━━━━━━━━━━━\u001b[0m\u001b[37m\u001b[0m \u001b[1m1s\u001b[0m 9ms/step - accuracy: 0.8017 - loss: 0.5611 - val_accuracy: 0.7886 - val_loss: 0.6338\n",
      "Epoch 127/200\n",
      "\u001b[1m98/98\u001b[0m \u001b[32m━━━━━━━━━━━━━━━━━━━━\u001b[0m\u001b[37m\u001b[0m \u001b[1m1s\u001b[0m 9ms/step - accuracy: 0.8001 - loss: 0.5565 - val_accuracy: 0.7869 - val_loss: 0.6244\n",
      "Epoch 128/200\n",
      "\u001b[1m98/98\u001b[0m \u001b[32m━━━━━━━━━━━━━━━━━━━━\u001b[0m\u001b[37m\u001b[0m \u001b[1m1s\u001b[0m 9ms/step - accuracy: 0.8026 - loss: 0.5516 - val_accuracy: 0.7897 - val_loss: 0.6271\n",
      "Epoch 129/200\n",
      "\u001b[1m98/98\u001b[0m \u001b[32m━━━━━━━━━━━━━━━━━━━━\u001b[0m\u001b[37m\u001b[0m \u001b[1m1s\u001b[0m 9ms/step - accuracy: 0.8006 - loss: 0.5579 - val_accuracy: 0.7857 - val_loss: 0.6275\n",
      "Epoch 130/200\n",
      "\u001b[1m98/98\u001b[0m \u001b[32m━━━━━━━━━━━━━━━━━━━━\u001b[0m\u001b[37m\u001b[0m \u001b[1m1s\u001b[0m 9ms/step - accuracy: 0.7994 - loss: 0.5585 - val_accuracy: 0.7885 - val_loss: 0.6225\n",
      "Epoch 131/200\n",
      "\u001b[1m98/98\u001b[0m \u001b[32m━━━━━━━━━━━━━━━━━━━━\u001b[0m\u001b[37m\u001b[0m \u001b[1m1s\u001b[0m 9ms/step - accuracy: 0.7956 - loss: 0.5742 - val_accuracy: 0.7860 - val_loss: 0.6317\n",
      "Epoch 132/200\n",
      "\u001b[1m98/98\u001b[0m \u001b[32m━━━━━━━━━━━━━━━━━━━━\u001b[0m\u001b[37m\u001b[0m \u001b[1m1s\u001b[0m 9ms/step - accuracy: 0.7982 - loss: 0.5679 - val_accuracy: 0.7853 - val_loss: 0.6353\n",
      "Epoch 133/200\n",
      "\u001b[1m98/98\u001b[0m \u001b[32m━━━━━━━━━━━━━━━━━━━━\u001b[0m\u001b[37m\u001b[0m \u001b[1m1s\u001b[0m 9ms/step - accuracy: 0.8046 - loss: 0.5516 - val_accuracy: 0.7900 - val_loss: 0.6248\n",
      "Epoch 134/200\n",
      "\u001b[1m98/98\u001b[0m \u001b[32m━━━━━━━━━━━━━━━━━━━━\u001b[0m\u001b[37m\u001b[0m \u001b[1m1s\u001b[0m 9ms/step - accuracy: 0.8032 - loss: 0.5491 - val_accuracy: 0.7877 - val_loss: 0.6273\n",
      "Epoch 135/200\n",
      "\u001b[1m98/98\u001b[0m \u001b[32m━━━━━━━━━━━━━━━━━━━━\u001b[0m\u001b[37m\u001b[0m \u001b[1m1s\u001b[0m 9ms/step - accuracy: 0.8045 - loss: 0.5450 - val_accuracy: 0.7886 - val_loss: 0.6277\n",
      "Epoch 136/200\n",
      "\u001b[1m98/98\u001b[0m \u001b[32m━━━━━━━━━━━━━━━━━━━━\u001b[0m\u001b[37m\u001b[0m \u001b[1m1s\u001b[0m 9ms/step - accuracy: 0.8042 - loss: 0.5478 - val_accuracy: 0.7850 - val_loss: 0.6357\n",
      "Epoch 137/200\n",
      "\u001b[1m98/98\u001b[0m \u001b[32m━━━━━━━━━━━━━━━━━━━━\u001b[0m\u001b[37m\u001b[0m \u001b[1m1s\u001b[0m 9ms/step - accuracy: 0.8039 - loss: 0.5453 - val_accuracy: 0.7850 - val_loss: 0.6330\n",
      "Epoch 138/200\n",
      "\u001b[1m98/98\u001b[0m \u001b[32m━━━━━━━━━━━━━━━━━━━━\u001b[0m\u001b[37m\u001b[0m \u001b[1m1s\u001b[0m 9ms/step - accuracy: 0.8072 - loss: 0.5420 - val_accuracy: 0.7873 - val_loss: 0.6231\n",
      "Epoch 139/200\n",
      "\u001b[1m98/98\u001b[0m \u001b[32m━━━━━━━━━━━━━━━━━━━━\u001b[0m\u001b[37m\u001b[0m \u001b[1m1s\u001b[0m 9ms/step - accuracy: 0.8031 - loss: 0.5484 - val_accuracy: 0.7857 - val_loss: 0.6289\n",
      "Epoch 140/200\n",
      "\u001b[1m98/98\u001b[0m \u001b[32m━━━━━━━━━━━━━━━━━━━━\u001b[0m\u001b[37m\u001b[0m \u001b[1m1s\u001b[0m 9ms/step - accuracy: 0.8042 - loss: 0.5484 - val_accuracy: 0.7878 - val_loss: 0.6255\n",
      "Epoch 141/200\n",
      "\u001b[1m98/98\u001b[0m \u001b[32m━━━━━━━━━━━━━━━━━━━━\u001b[0m\u001b[37m\u001b[0m \u001b[1m1s\u001b[0m 9ms/step - accuracy: 0.8103 - loss: 0.5297 - val_accuracy: 0.7883 - val_loss: 0.6254\n",
      "Epoch 142/200\n",
      "\u001b[1m98/98\u001b[0m \u001b[32m━━━━━━━━━━━━━━━━━━━━\u001b[0m\u001b[37m\u001b[0m \u001b[1m1s\u001b[0m 9ms/step - accuracy: 0.8000 - loss: 0.5463 - val_accuracy: 0.7895 - val_loss: 0.6310\n",
      "Epoch 143/200\n",
      "\u001b[1m98/98\u001b[0m \u001b[32m━━━━━━━━━━━━━━━━━━━━\u001b[0m\u001b[37m\u001b[0m \u001b[1m1s\u001b[0m 9ms/step - accuracy: 0.8070 - loss: 0.5396 - val_accuracy: 0.7865 - val_loss: 0.6208\n",
      "Epoch 144/200\n",
      "\u001b[1m98/98\u001b[0m \u001b[32m━━━━━━━━━━━━━━━━━━━━\u001b[0m\u001b[37m\u001b[0m \u001b[1m1s\u001b[0m 9ms/step - accuracy: 0.8094 - loss: 0.5368 - val_accuracy: 0.7917 - val_loss: 0.6204\n",
      "Epoch 145/200\n",
      "\u001b[1m98/98\u001b[0m \u001b[32m━━━━━━━━━━━━━━━━━━━━\u001b[0m\u001b[37m\u001b[0m \u001b[1m1s\u001b[0m 9ms/step - accuracy: 0.8092 - loss: 0.5330 - val_accuracy: 0.7920 - val_loss: 0.6214\n",
      "Epoch 146/200\n",
      "\u001b[1m98/98\u001b[0m \u001b[32m━━━━━━━━━━━━━━━━━━━━\u001b[0m\u001b[37m\u001b[0m \u001b[1m1s\u001b[0m 9ms/step - accuracy: 0.8059 - loss: 0.5454 - val_accuracy: 0.7882 - val_loss: 0.6262\n",
      "Epoch 147/200\n",
      "\u001b[1m98/98\u001b[0m \u001b[32m━━━━━━━━━━━━━━━━━━━━\u001b[0m\u001b[37m\u001b[0m \u001b[1m1s\u001b[0m 9ms/step - accuracy: 0.8072 - loss: 0.5394 - val_accuracy: 0.7825 - val_loss: 0.6427\n",
      "Epoch 148/200\n",
      "\u001b[1m98/98\u001b[0m \u001b[32m━━━━━━━━━━━━━━━━━━━━\u001b[0m\u001b[37m\u001b[0m \u001b[1m1s\u001b[0m 9ms/step - accuracy: 0.8061 - loss: 0.5447 - val_accuracy: 0.7923 - val_loss: 0.6253\n",
      "Epoch 149/200\n",
      "\u001b[1m98/98\u001b[0m \u001b[32m━━━━━━━━━━━━━━━━━━━━\u001b[0m\u001b[37m\u001b[0m \u001b[1m1s\u001b[0m 9ms/step - accuracy: 0.8082 - loss: 0.5381 - val_accuracy: 0.7877 - val_loss: 0.6258\n",
      "Epoch 150/200\n",
      "\u001b[1m98/98\u001b[0m \u001b[32m━━━━━━━━━━━━━━━━━━━━\u001b[0m\u001b[37m\u001b[0m \u001b[1m1s\u001b[0m 9ms/step - accuracy: 0.8087 - loss: 0.5356 - val_accuracy: 0.7835 - val_loss: 0.6402\n",
      "Epoch 151/200\n",
      "\u001b[1m98/98\u001b[0m \u001b[32m━━━━━━━━━━━━━━━━━━━━\u001b[0m\u001b[37m\u001b[0m \u001b[1m1s\u001b[0m 9ms/step - accuracy: 0.8069 - loss: 0.5412 - val_accuracy: 0.7916 - val_loss: 0.6190\n",
      "Epoch 152/200\n",
      "\u001b[1m98/98\u001b[0m \u001b[32m━━━━━━━━━━━━━━━━━━━━\u001b[0m\u001b[37m\u001b[0m \u001b[1m1s\u001b[0m 9ms/step - accuracy: 0.8112 - loss: 0.5320 - val_accuracy: 0.7849 - val_loss: 0.6234\n",
      "Epoch 153/200\n",
      "\u001b[1m98/98\u001b[0m \u001b[32m━━━━━━━━━━━━━━━━━━━━\u001b[0m\u001b[37m\u001b[0m \u001b[1m1s\u001b[0m 9ms/step - accuracy: 0.8076 - loss: 0.5321 - val_accuracy: 0.7932 - val_loss: 0.6166\n",
      "Epoch 154/200\n",
      "\u001b[1m98/98\u001b[0m \u001b[32m━━━━━━━━━━━━━━━━━━━━\u001b[0m\u001b[37m\u001b[0m \u001b[1m1s\u001b[0m 9ms/step - accuracy: 0.8076 - loss: 0.5384 - val_accuracy: 0.7878 - val_loss: 0.6392\n",
      "Epoch 155/200\n",
      "\u001b[1m98/98\u001b[0m \u001b[32m━━━━━━━━━━━━━━━━━━━━\u001b[0m\u001b[37m\u001b[0m \u001b[1m1s\u001b[0m 9ms/step - accuracy: 0.8047 - loss: 0.5462 - val_accuracy: 0.7904 - val_loss: 0.6199\n",
      "Epoch 156/200\n",
      "\u001b[1m98/98\u001b[0m \u001b[32m━━━━━━━━━━━━━━━━━━━━\u001b[0m\u001b[37m\u001b[0m \u001b[1m1s\u001b[0m 9ms/step - accuracy: 0.8111 - loss: 0.5297 - val_accuracy: 0.7896 - val_loss: 0.6247\n",
      "Epoch 157/200\n",
      "\u001b[1m98/98\u001b[0m \u001b[32m━━━━━━━━━━━━━━━━━━━━\u001b[0m\u001b[37m\u001b[0m \u001b[1m1s\u001b[0m 9ms/step - accuracy: 0.8105 - loss: 0.5344 - val_accuracy: 0.7920 - val_loss: 0.6171\n",
      "Epoch 158/200\n",
      "\u001b[1m98/98\u001b[0m \u001b[32m━━━━━━━━━━━━━━━━━━━━\u001b[0m\u001b[37m\u001b[0m \u001b[1m1s\u001b[0m 9ms/step - accuracy: 0.8081 - loss: 0.5337 - val_accuracy: 0.7930 - val_loss: 0.6189\n",
      "Epoch 159/200\n",
      "\u001b[1m98/98\u001b[0m \u001b[32m━━━━━━━━━━━━━━━━━━━━\u001b[0m\u001b[37m\u001b[0m \u001b[1m1s\u001b[0m 9ms/step - accuracy: 0.8127 - loss: 0.5254 - val_accuracy: 0.7909 - val_loss: 0.6261\n",
      "Epoch 160/200\n",
      "\u001b[1m98/98\u001b[0m \u001b[32m━━━━━━━━━━━━━━━━━━━━\u001b[0m\u001b[37m\u001b[0m \u001b[1m1s\u001b[0m 9ms/step - accuracy: 0.8113 - loss: 0.5269 - val_accuracy: 0.7899 - val_loss: 0.6330\n",
      "Epoch 161/200\n",
      "\u001b[1m98/98\u001b[0m \u001b[32m━━━━━━━━━━━━━━━━━━━━\u001b[0m\u001b[37m\u001b[0m \u001b[1m1s\u001b[0m 9ms/step - accuracy: 0.8107 - loss: 0.5304 - val_accuracy: 0.7890 - val_loss: 0.6373\n",
      "Epoch 162/200\n",
      "\u001b[1m98/98\u001b[0m \u001b[32m━━━━━━━━━━━━━━━━━━━━\u001b[0m\u001b[37m\u001b[0m \u001b[1m1s\u001b[0m 9ms/step - accuracy: 0.8142 - loss: 0.5172 - val_accuracy: 0.7905 - val_loss: 0.6276\n",
      "Epoch 163/200\n",
      "\u001b[1m98/98\u001b[0m \u001b[32m━━━━━━━━━━━━━━━━━━━━\u001b[0m\u001b[37m\u001b[0m \u001b[1m1s\u001b[0m 9ms/step - accuracy: 0.8162 - loss: 0.5136 - val_accuracy: 0.7946 - val_loss: 0.6201\n",
      "Epoch 164/200\n",
      "\u001b[1m98/98\u001b[0m \u001b[32m━━━━━━━━━━━━━━━━━━━━\u001b[0m\u001b[37m\u001b[0m \u001b[1m1s\u001b[0m 9ms/step - accuracy: 0.8118 - loss: 0.5273 - val_accuracy: 0.7915 - val_loss: 0.6294\n",
      "Epoch 165/200\n",
      "\u001b[1m98/98\u001b[0m \u001b[32m━━━━━━━━━━━━━━━━━━━━\u001b[0m\u001b[37m\u001b[0m \u001b[1m1s\u001b[0m 9ms/step - accuracy: 0.8128 - loss: 0.5227 - val_accuracy: 0.7913 - val_loss: 0.6191\n",
      "Epoch 166/200\n",
      "\u001b[1m98/98\u001b[0m \u001b[32m━━━━━━━━━━━━━━━━━━━━\u001b[0m\u001b[37m\u001b[0m \u001b[1m1s\u001b[0m 9ms/step - accuracy: 0.8139 - loss: 0.5176 - val_accuracy: 0.7931 - val_loss: 0.6234\n",
      "Epoch 167/200\n",
      "\u001b[1m98/98\u001b[0m \u001b[32m━━━━━━━━━━━━━━━━━━━━\u001b[0m\u001b[37m\u001b[0m \u001b[1m1s\u001b[0m 9ms/step - accuracy: 0.8143 - loss: 0.5188 - val_accuracy: 0.7906 - val_loss: 0.6229\n",
      "Epoch 168/200\n",
      "\u001b[1m98/98\u001b[0m \u001b[32m━━━━━━━━━━━━━━━━━━━━\u001b[0m\u001b[37m\u001b[0m \u001b[1m1s\u001b[0m 9ms/step - accuracy: 0.8143 - loss: 0.5260 - val_accuracy: 0.7896 - val_loss: 0.6257\n",
      "Epoch 169/200\n",
      "\u001b[1m98/98\u001b[0m \u001b[32m━━━━━━━━━━━━━━━━━━━━\u001b[0m\u001b[37m\u001b[0m \u001b[1m1s\u001b[0m 9ms/step - accuracy: 0.8114 - loss: 0.5211 - val_accuracy: 0.7958 - val_loss: 0.6165\n",
      "Epoch 170/200\n",
      "\u001b[1m98/98\u001b[0m \u001b[32m━━━━━━━━━━━━━━━━━━━━\u001b[0m\u001b[37m\u001b[0m \u001b[1m1s\u001b[0m 9ms/step - accuracy: 0.8161 - loss: 0.5174 - val_accuracy: 0.7958 - val_loss: 0.6196\n",
      "Epoch 171/200\n",
      "\u001b[1m98/98\u001b[0m \u001b[32m━━━━━━━━━━━━━━━━━━━━\u001b[0m\u001b[37m\u001b[0m \u001b[1m1s\u001b[0m 9ms/step - accuracy: 0.8162 - loss: 0.5160 - val_accuracy: 0.7924 - val_loss: 0.6185\n",
      "Epoch 172/200\n",
      "\u001b[1m98/98\u001b[0m \u001b[32m━━━━━━━━━━━━━━━━━━━━\u001b[0m\u001b[37m\u001b[0m \u001b[1m1s\u001b[0m 9ms/step - accuracy: 0.8170 - loss: 0.5119 - val_accuracy: 0.7918 - val_loss: 0.6199\n",
      "Epoch 173/200\n",
      "\u001b[1m98/98\u001b[0m \u001b[32m━━━━━━━━━━━━━━━━━━━━\u001b[0m\u001b[37m\u001b[0m \u001b[1m1s\u001b[0m 9ms/step - accuracy: 0.8166 - loss: 0.5127 - val_accuracy: 0.7912 - val_loss: 0.6268\n",
      "Epoch 174/200\n",
      "\u001b[1m98/98\u001b[0m \u001b[32m━━━━━━━━━━━━━━━━━━━━\u001b[0m\u001b[37m\u001b[0m \u001b[1m1s\u001b[0m 9ms/step - accuracy: 0.8131 - loss: 0.5152 - val_accuracy: 0.7934 - val_loss: 0.6233\n",
      "Epoch 175/200\n",
      "\u001b[1m98/98\u001b[0m \u001b[32m━━━━━━━━━━━━━━━━━━━━\u001b[0m\u001b[37m\u001b[0m \u001b[1m1s\u001b[0m 9ms/step - accuracy: 0.8154 - loss: 0.5156 - val_accuracy: 0.7907 - val_loss: 0.6293\n",
      "Epoch 176/200\n",
      "\u001b[1m98/98\u001b[0m \u001b[32m━━━━━━━━━━━━━━━━━━━━\u001b[0m\u001b[37m\u001b[0m \u001b[1m1s\u001b[0m 9ms/step - accuracy: 0.8162 - loss: 0.5143 - val_accuracy: 0.7945 - val_loss: 0.6211\n",
      "Epoch 177/200\n",
      "\u001b[1m98/98\u001b[0m \u001b[32m━━━━━━━━━━━━━━━━━━━━\u001b[0m\u001b[37m\u001b[0m \u001b[1m1s\u001b[0m 9ms/step - accuracy: 0.8177 - loss: 0.5093 - val_accuracy: 0.7926 - val_loss: 0.6179\n",
      "Epoch 178/200\n",
      "\u001b[1m98/98\u001b[0m \u001b[32m━━━━━━━━━━━━━━━━━━━━\u001b[0m\u001b[37m\u001b[0m \u001b[1m1s\u001b[0m 9ms/step - accuracy: 0.8175 - loss: 0.5091 - val_accuracy: 0.7898 - val_loss: 0.6228\n",
      "Epoch 179/200\n",
      "\u001b[1m98/98\u001b[0m \u001b[32m━━━━━━━━━━━━━━━━━━━━\u001b[0m\u001b[37m\u001b[0m \u001b[1m1s\u001b[0m 9ms/step - accuracy: 0.8165 - loss: 0.5095 - val_accuracy: 0.7924 - val_loss: 0.6300\n",
      "Epoch 180/200\n",
      "\u001b[1m98/98\u001b[0m \u001b[32m━━━━━━━━━━━━━━━━━━━━\u001b[0m\u001b[37m\u001b[0m \u001b[1m1s\u001b[0m 9ms/step - accuracy: 0.8149 - loss: 0.5143 - val_accuracy: 0.7918 - val_loss: 0.6257\n",
      "Epoch 181/200\n",
      "\u001b[1m98/98\u001b[0m \u001b[32m━━━━━━━━━━━━━━━━━━━━\u001b[0m\u001b[37m\u001b[0m \u001b[1m1s\u001b[0m 9ms/step - accuracy: 0.8197 - loss: 0.5037 - val_accuracy: 0.7920 - val_loss: 0.6186\n",
      "Epoch 182/200\n",
      "\u001b[1m98/98\u001b[0m \u001b[32m━━━━━━━━━━━━━━━━━━━━\u001b[0m\u001b[37m\u001b[0m \u001b[1m1s\u001b[0m 9ms/step - accuracy: 0.8219 - loss: 0.4975 - val_accuracy: 0.7943 - val_loss: 0.6204\n",
      "Epoch 183/200\n",
      "\u001b[1m98/98\u001b[0m \u001b[32m━━━━━━━━━━━━━━━━━━━━\u001b[0m\u001b[37m\u001b[0m \u001b[1m1s\u001b[0m 9ms/step - accuracy: 0.8196 - loss: 0.4986 - val_accuracy: 0.7889 - val_loss: 0.6361\n",
      "Epoch 184/200\n",
      "\u001b[1m98/98\u001b[0m \u001b[32m━━━━━━━━━━━━━━━━━━━━\u001b[0m\u001b[37m\u001b[0m \u001b[1m1s\u001b[0m 9ms/step - accuracy: 0.8207 - loss: 0.5043 - val_accuracy: 0.7931 - val_loss: 0.6294\n",
      "Epoch 185/200\n",
      "\u001b[1m98/98\u001b[0m \u001b[32m━━━━━━━━━━━━━━━━━━━━\u001b[0m\u001b[37m\u001b[0m \u001b[1m1s\u001b[0m 9ms/step - accuracy: 0.8165 - loss: 0.5068 - val_accuracy: 0.7915 - val_loss: 0.6253\n",
      "Epoch 186/200\n",
      "\u001b[1m98/98\u001b[0m \u001b[32m━━━━━━━━━━━━━━━━━━━━\u001b[0m\u001b[37m\u001b[0m \u001b[1m1s\u001b[0m 9ms/step - accuracy: 0.8170 - loss: 0.5080 - val_accuracy: 0.7919 - val_loss: 0.6203\n",
      "Epoch 187/200\n",
      "\u001b[1m98/98\u001b[0m \u001b[32m━━━━━━━━━━━━━━━━━━━━\u001b[0m\u001b[37m\u001b[0m \u001b[1m1s\u001b[0m 9ms/step - accuracy: 0.8196 - loss: 0.5045 - val_accuracy: 0.7927 - val_loss: 0.6190\n",
      "Epoch 188/200\n",
      "\u001b[1m98/98\u001b[0m \u001b[32m━━━━━━━━━━━━━━━━━━━━\u001b[0m\u001b[37m\u001b[0m \u001b[1m1s\u001b[0m 9ms/step - accuracy: 0.8186 - loss: 0.5031 - val_accuracy: 0.7966 - val_loss: 0.6141\n",
      "Epoch 189/200\n",
      "\u001b[1m98/98\u001b[0m \u001b[32m━━━━━━━━━━━━━━━━━━━━\u001b[0m\u001b[37m\u001b[0m \u001b[1m1s\u001b[0m 9ms/step - accuracy: 0.8158 - loss: 0.5023 - val_accuracy: 0.7944 - val_loss: 0.6216\n",
      "Epoch 190/200\n",
      "\u001b[1m98/98\u001b[0m \u001b[32m━━━━━━━━━━━━━━━━━━━━\u001b[0m\u001b[37m\u001b[0m \u001b[1m1s\u001b[0m 9ms/step - accuracy: 0.8191 - loss: 0.5077 - val_accuracy: 0.7909 - val_loss: 0.6238\n",
      "Epoch 191/200\n",
      "\u001b[1m98/98\u001b[0m \u001b[32m━━━━━━━━━━━━━━━━━━━━\u001b[0m\u001b[37m\u001b[0m \u001b[1m1s\u001b[0m 9ms/step - accuracy: 0.8228 - loss: 0.4943 - val_accuracy: 0.7931 - val_loss: 0.6196\n",
      "Epoch 192/200\n",
      "\u001b[1m98/98\u001b[0m \u001b[32m━━━━━━━━━━━━━━━━━━━━\u001b[0m\u001b[37m\u001b[0m \u001b[1m1s\u001b[0m 9ms/step - accuracy: 0.8165 - loss: 0.5079 - val_accuracy: 0.7971 - val_loss: 0.6133\n",
      "Epoch 193/200\n",
      "\u001b[1m98/98\u001b[0m \u001b[32m━━━━━━━━━━━━━━━━━━━━\u001b[0m\u001b[37m\u001b[0m \u001b[1m1s\u001b[0m 9ms/step - accuracy: 0.8221 - loss: 0.4917 - val_accuracy: 0.7901 - val_loss: 0.6258\n",
      "Epoch 194/200\n",
      "\u001b[1m98/98\u001b[0m \u001b[32m━━━━━━━━━━━━━━━━━━━━\u001b[0m\u001b[37m\u001b[0m \u001b[1m1s\u001b[0m 9ms/step - accuracy: 0.8149 - loss: 0.5137 - val_accuracy: 0.7907 - val_loss: 0.6266\n",
      "Epoch 195/200\n",
      "\u001b[1m98/98\u001b[0m \u001b[32m━━━━━━━━━━━━━━━━━━━━\u001b[0m\u001b[37m\u001b[0m \u001b[1m1s\u001b[0m 9ms/step - accuracy: 0.8189 - loss: 0.5045 - val_accuracy: 0.7945 - val_loss: 0.6190\n",
      "Epoch 196/200\n",
      "\u001b[1m98/98\u001b[0m \u001b[32m━━━━━━━━━━━━━━━━━━━━\u001b[0m\u001b[37m\u001b[0m \u001b[1m1s\u001b[0m 9ms/step - accuracy: 0.8277 - loss: 0.4879 - val_accuracy: 0.7937 - val_loss: 0.6215\n",
      "Epoch 197/200\n",
      "\u001b[1m98/98\u001b[0m \u001b[32m━━━━━━━━━━━━━━━━━━━━\u001b[0m\u001b[37m\u001b[0m \u001b[1m1s\u001b[0m 9ms/step - accuracy: 0.8176 - loss: 0.5015 - val_accuracy: 0.7915 - val_loss: 0.6253\n",
      "Epoch 198/200\n",
      "\u001b[1m98/98\u001b[0m \u001b[32m━━━━━━━━━━━━━━━━━━━━\u001b[0m\u001b[37m\u001b[0m \u001b[1m1s\u001b[0m 9ms/step - accuracy: 0.8140 - loss: 0.5164 - val_accuracy: 0.7940 - val_loss: 0.6156\n",
      "Epoch 199/200\n",
      "\u001b[1m98/98\u001b[0m \u001b[32m━━━━━━━━━━━━━━━━━━━━\u001b[0m\u001b[37m\u001b[0m \u001b[1m1s\u001b[0m 9ms/step - accuracy: 0.8243 - loss: 0.4938 - val_accuracy: 0.7894 - val_loss: 0.6324\n",
      "Epoch 200/200\n",
      "\u001b[1m98/98\u001b[0m \u001b[32m━━━━━━━━━━━━━━━━━━━━\u001b[0m\u001b[37m\u001b[0m \u001b[1m1s\u001b[0m 9ms/step - accuracy: 0.8240 - loss: 0.4934 - val_accuracy: 0.7879 - val_loss: 0.6377\n"
     ]
    },
    {
     "name": "stderr",
     "output_type": "stream",
     "text": [
      "WARNING:absl:You are saving your model as an HDF5 file via `model.save()` or `keras.saving.save_model(model)`. This file format is considered legacy. We recommend using instead the native Keras format, e.g. `model.save('my_model.keras')` or `keras.saving.save_model(model, 'my_model.keras')`. \n"
     ]
    },
    {
     "data": {
      "image/png": "[encoded data removed]",
      "text/plain": [
       "<Figure size 800x800 with 2 Axes>"
      ]
     },
     "metadata": {},
     "output_type": "display_data"
    }
   ],
   "source": [
    "model = build_vanilla_model(train_images[0].shape, 10)\n",
    "history = model.fit(train_images, train_labels_cat, epochs=200, batch_size=512, \n",
    "                    validation_data=(test_images, test_labels_cat))\n",
    "print_history_chart(history)\n",
    "model.save('cifar/models/vanilla_cifar10.h5')"
   ]
  },
  {
   "cell_type": "markdown",
   "id": "b6e7a6e5",
   "metadata": {},
   "source": [
    "evaluation"
   ]
  },
  {
   "cell_type": "code",
   "execution_count": 24,
   "id": "configured-shield",
   "metadata": {},
   "outputs": [
    {
     "name": "stderr",
     "output_type": "stream",
     "text": [
      "WARNING:absl:Compiled the loaded model, but the compiled metrics have yet to be built. `model.compile_metrics` will be empty until you train or evaluate the model.\n"
     ]
    }
   ],
   "source": [
    "model = tf.keras.models.load_model(\"cifar/models/vanilla_cifar10.h5\")"
   ]
  },
  {
   "cell_type": "code",
   "execution_count": 25,
   "id": "44d250e8",
   "metadata": {},
   "outputs": [
    {
     "name": "stderr",
     "output_type": "stream",
     "text": [
      "WARNING: All log messages before absl::InitializeLog() is called are written to STDERR\n",
      "I0000 00:00:1714340338.384728    6804 service.cc:145] XLA service 0x7c1f98005cd0 initialized for platform CUDA (this does not guarantee that XLA will be used). Devices:\n",
      "I0000 00:00:1714340338.384756    6804 service.cc:153]   StreamExecutor device (0): NVIDIA GeForce RTX 3060, Compute Capability 8.6\n",
      "2024-04-28 23:38:58.402425: I tensorflow/compiler/mlir/tensorflow/utils/dump_mlir_util.cc:268] disabling MLIR crash reproducer, set env var `MLIR_CRASH_REPRODUCER_DIRECTORY` to enable.\n",
      "2024-04-28 23:38:58.490275: I external/local_xla/xla/stream_executor/cuda/cuda_dnn.cc:465] Loaded cuDNN version 8907\n"
     ]
    },
    {
     "name": "stdout",
     "output_type": "stream",
     "text": [
      "\u001b[1m297/313\u001b[0m \u001b[32m━━━━━━━━━━━━━━━━━━\u001b[0m\u001b[37m━━\u001b[0m \u001b[1m0s\u001b[0m 509us/step"
     ]
    },
    {
     "name": "stderr",
     "output_type": "stream",
     "text": [
      "I0000 00:00:1714340339.034293    6804 device_compiler.h:188] Compiled cluster using XLA!  This line is logged at most once for the lifetime of the process.\n"
     ]
    },
    {
     "name": "stdout",
     "output_type": "stream",
     "text": [
      "\u001b[1m313/313\u001b[0m \u001b[32m━━━━━━━━━━━━━━━━━━━━\u001b[0m\u001b[37m\u001b[0m \u001b[1m1s\u001b[0m 1ms/step\n",
      "Accuracy: 0.9263900000000002\n",
      "Confusion matrix:\n",
      " [[8636  372]\n",
      " [ 323  669]]\n",
      "F1-score: 0.6581406787998033\n"
     ]
    }
   ],
   "source": [
    "results = full_evaluate_differencing(model, test_images, test_labels) #id7"
   ]
  },
  {
   "cell_type": "markdown",
   "id": "floating-tulsa",
   "metadata": {},
   "source": [
    "# Siemese network"
   ]
  },
  {
   "cell_type": "markdown",
   "id": "628b4fe4",
   "metadata": {},
   "source": [
    "### From classification"
   ]
  },
  {
   "cell_type": "code",
   "execution_count": 11,
   "id": "b2ad398b",
   "metadata": {},
   "outputs": [
    {
     "name": "stderr",
     "output_type": "stream",
     "text": [
      "WARNING:absl:Compiled the loaded model, but the compiled metrics have yet to be built. `model.compile_metrics` will be empty until you train or evaluate the model.\n",
      "WARNING: All log messages before absl::InitializeLog() is called are written to STDERR\n",
      "I0000 00:00:1718302518.084315  395538 service.cc:145] XLA service 0x737ed40092c0 initialized for platform CUDA (this does not guarantee that XLA will be used). Devices:\n",
      "I0000 00:00:1718302518.084349  395538 service.cc:153]   StreamExecutor device (0): NVIDIA GeForce RTX 3060, Compute Capability 8.6\n",
      "2024-06-13 20:15:18.089545: I tensorflow/compiler/mlir/tensorflow/utils/dump_mlir_util.cc:268] disabling MLIR crash reproducer, set env var `MLIR_CRASH_REPRODUCER_DIRECTORY` to enable.\n",
      "2024-06-13 20:15:18.132079: I external/local_xla/xla/stream_executor/cuda/cuda_dnn.cc:465] Loaded cuDNN version 8907\n"
     ]
    },
    {
     "name": "stdout",
     "output_type": "stream",
     "text": [
      "\u001b[1m158/313\u001b[0m \u001b[32m━━━━━━━━━━\u001b[0m\u001b[37m━━━━━━━━━━\u001b[0m \u001b[1m0s\u001b[0m 966us/step"
     ]
    },
    {
     "name": "stderr",
     "output_type": "stream",
     "text": [
      "I0000 00:00:1718302518.453008  395538 device_compiler.h:188] Compiled cluster using XLA!  This line is logged at most once for the lifetime of the process.\n"
     ]
    },
    {
     "name": "stdout",
     "output_type": "stream",
     "text": [
      "\u001b[1m313/313\u001b[0m \u001b[32m━━━━━━━━━━━━━━━━━━━━\u001b[0m\u001b[37m\u001b[0m \u001b[1m1s\u001b[0m 2ms/step\n",
      "Accuracy: 0.93334\n",
      "Confusion matrix:\n",
      " [[8666  342]\n",
      " [ 321  671]]\n",
      "F1-score: 0.6693266832917706\n"
     ]
    }
   ],
   "source": [
    "def full_evaluate_differencing(model, X, y, siamese=False):\n",
    "    results = {}\n",
    "    if siamese:\n",
    "        y_pred = np.argmax(model.predict([X, X]), 1)\n",
    "    else:\n",
    "        y_pred = np.argmax(model.predict(X), 1)\n",
    "    acc = 0\n",
    "    c_m = None\n",
    "    flag = True\n",
    "\n",
    "    for i in range(1,11):\n",
    "        true_sim = (y == np.concatenate([y[i:], y[:i]])).reshape(-1)\n",
    "        pred_sim = (y_pred == np.concatenate([y_pred[i:], y_pred[:i]]))\n",
    "        acc += accuracy_score(true_sim, pred_sim)\n",
    "        if flag:\n",
    "            c_m = confusion_matrix(true_sim, pred_sim)\n",
    "        else:\n",
    "            c_m += confusion_matrix(true_sim, pred_sim)\n",
    "\n",
    "    acc = acc/10\n",
    "    results['accuracy_score'] = acc\n",
    "    print('Accuracy:', acc)\n",
    "    results['confusion_matrix'] = c_m\n",
    "    print('Confusion matrix:\\n', c_m)\n",
    "    \n",
    "    def f1(mat):\n",
    "        tp = mat[1][1] \n",
    "        fp = mat[0][1] \n",
    "        fn = mat[1][0] \n",
    "        tn = mat[0][0] \n",
    "        prec, rec = tp/(tp+fp), tp/(tp+fn)\n",
    "        return 2*prec*rec/(prec+rec)\n",
    "    \n",
    "    results['f1_score'] = f1(c_m)\n",
    "    print('F1-score:', f1(c_m))\n",
    "    return results\n",
    "\n",
    "\n",
    "model = tf.keras.models.load_model(\"cifar/models/siamese_vanilla_cifar10.h5\")\n",
    "results = full_evaluate_differencing(model, test_images, test_labels, siamese=True) #id8"
   ]
  },
  {
   "cell_type": "markdown",
   "id": "0863846b",
   "metadata": {},
   "source": [
    "#### Custom"
   ]
  },
  {
   "cell_type": "code",
   "execution_count": 45,
   "id": "hired-highland",
   "metadata": {},
   "outputs": [],
   "source": [
    "from tensorflow.keras.models import Model\n",
    "from tensorflow.keras.layers import Dense\n",
    "from tensorflow.keras.layers import Input\n",
    "from tensorflow.keras.layers import Lambda\n",
    "from tensorflow.keras.datasets import mnist\n",
    "import numpy as np\n",
    "import tensorflow.keras.backend as K\n",
    "\n",
    "\n",
    "def build_siamese_model(inputShape):\n",
    "    inputs = Input(inputShape)\n",
    "\n",
    "    x = Conv2D(32, (3, 3), activation=\"relu\")(inputs)\n",
    "    x = MaxPooling2D(pool_size=(2, 2))(x)\n",
    "    x = Dropout(0.2)(x)\n",
    "\n",
    "    x = Conv2D(64, (3, 3), activation=\"relu\")(x)\n",
    "    x = MaxPooling2D(pool_size=(2, 2))(x)\n",
    "    x = Dropout(0.2)(x)\n",
    "    \n",
    "    x = Conv2D(128, (3, 3), activation=\"relu\")(x)\n",
    "    x = MaxPooling2D(pool_size=(2, 2))(x)\n",
    "    x = Dropout(0.2)(x)\n",
    "\n",
    "#     pooledOutput = GlobalAveragePooling2D()(x)\n",
    "    pooledOutput = Flatten()(x)\n",
    "    outputs = Dense(32)(pooledOutput)\n",
    "    \n",
    "\n",
    "    model = Model(inputs, outputs)\n",
    "\n",
    "    return model\n",
    "\n",
    "\n",
    "def euclidean_distance(vectors):\n",
    "\t# unpack the vectors into separate lists\n",
    "\t(featsA, featsB) = vectors\n",
    "\n",
    "\t# compute the sum of squared distances between the vectors\n",
    "\tsumSquared = K.sum(K.square(featsA - featsB), axis=1,\n",
    "\t\tkeepdims=True)\n",
    "\n",
    "\t# return the euclidean distance between the vectors\n",
    "\treturn K.sqrt(K.maximum(sumSquared, K.epsilon()))\n"
   ]
  },
  {
   "cell_type": "code",
   "execution_count": 46,
   "id": "52dcc73c",
   "metadata": {},
   "outputs": [],
   "source": [
    "y_tst = (test_labels == np.concatenate([test_labels[1:], test_labels[:1]])).reshape(-1)"
   ]
  },
  {
   "cell_type": "markdown",
   "id": "059f2857",
   "metadata": {},
   "source": [
    "### model on the whole datasets"
   ]
  },
  {
   "cell_type": "markdown",
   "id": "6fdb21ed",
   "metadata": {},
   "source": [
    "learning"
   ]
  },
  {
   "cell_type": "code",
   "execution_count": 47,
   "id": "6dfe5cd3",
   "metadata": {},
   "outputs": [],
   "source": [
    "def build_siamese_vanilla_model(shape, class_num):\n",
    "    inputs1 = Input(shape)\n",
    "    inputs2 = Input(shape)\n",
    "    \n",
    "    def one_side(inputs):\n",
    "        x = Conv2D(32, (3, 3), activation=\"relu\")(inputs)\n",
    "        x = MaxPooling2D(pool_size=(2, 2))(x)\n",
    "\n",
    "        x = Conv2D(64, (2, 2), activation=\"relu\")(x)\n",
    "        x = MaxPooling2D(pool_size=(2,2))(x)\n",
    "        x = Dropout(0.2)(x)\n",
    "\n",
    "        x = Conv2D(128, (2, 2), activation=\"relu\")(x)\n",
    "        x = MaxPooling2D(pool_size=(2,2))(x)\n",
    "        x = Dropout(0.2)(x)\n",
    "\n",
    "        x = Flatten()(x)\n",
    "\n",
    "        x = Dense(32, activation='relu')(x)\n",
    "        x = Dropout(0.2)(x)\n",
    "        \n",
    "        return x\n",
    "    \n",
    "    x1 = one_side(inputs1)\n",
    "    x2 = one_side(inputs2)\n",
    "    \n",
    "    x = concatenate([x1, x2])\n",
    "    \n",
    "    outputs = Dense(class_num, activation='softmax')(x)\n",
    "\n",
    "    # build the model\n",
    "    model = Model([inputs1, inputs2], outputs)\n",
    "    \n",
    "    model.compile(optimizer='adam',\n",
    "              loss='categorical_crossentropy',\n",
    "              metrics=['accuracy'])\n",
    "\n",
    "    return model"
   ]
  },
  {
   "cell_type": "code",
   "execution_count": 48,
   "id": "defined-median",
   "metadata": {},
   "outputs": [],
   "source": [
    "model = build_siamese_vanilla_model(train_images[0].shape,10)"
   ]
  },
  {
   "cell_type": "code",
   "execution_count": 49,
   "id": "d97f8ca2",
   "metadata": {},
   "outputs": [],
   "source": [
    "adam = tf.keras.optimizers.Adam(\n",
    "    learning_rate=0.05,\n",
    ")\n",
    "\n",
    "model.compile(optimizer=adam,\n",
    "              loss='binary_crossentropy',\n",
    "              metrics=['accuracy', tf.keras.metrics.AUC()])"
   ]
  },
  {
   "cell_type": "code",
   "execution_count": 50,
   "id": "58a2018b",
   "metadata": {},
   "outputs": [],
   "source": [
    "a, b = 1, 2\n",
    "\n",
    "X1 = np.concatenate([train_images,train_images])\n",
    "X2 = np.concatenate([np.concatenate([train_images[a:], train_images[:a]]),\n",
    "                    np.concatenate([train_images[b:], train_images[:b]])])\n",
    "\n",
    "# y = to_categorical(y)\n",
    "\n",
    "\n",
    "y1 = (train_labels == np.concatenate([train_labels[a:], train_labels[:a]])).reshape(-1)\n",
    "y2 = (train_labels == np.concatenate([train_labels[b:], train_labels[:b]])).reshape(-1)\n",
    "y = np.concatenate([y1, y2])"
   ]
  },
  {
   "cell_type": "code",
   "execution_count": 51,
   "id": "2300122f",
   "metadata": {},
   "outputs": [
    {
     "name": "stderr",
     "output_type": "stream",
     "text": [
      "2024-04-28 23:42:53.186836: W external/local_tsl/tsl/framework/bfc_allocator.cc:487] Allocator (GPU_0_bfc) ran out of memory trying to allocate 1.14GiB (rounded to 1228800000)requested by op _EagerConst\n",
      "If the cause is memory fragmentation maybe the environment variable 'TF_GPU_ALLOCATOR=cuda_malloc_async' will improve the situation. \n",
      "Current allocation summary follows.\n",
      "Current allocation summary follows.\n",
      "2024-04-28 23:42:53.186958: I external/local_tsl/tsl/framework/bfc_allocator.cc:1044] BFCAllocator dump for GPU_0_bfc\n",
      "2024-04-28 23:42:53.187277: I external/local_tsl/tsl/framework/bfc_allocator.cc:1051] Bin (256): \tTotal Chunks: 104, Chunks in use: 104. 26.0KiB allocated for chunks. 26.0KiB in use in bin. 6.6KiB client-requested in use in bin.\n",
      "2024-04-28 23:42:53.187325: I external/local_tsl/tsl/framework/bfc_allocator.cc:1051] Bin (512): \tTotal Chunks: 14, Chunks in use: 12. 7.2KiB allocated for chunks. 6.2KiB in use in bin. 6.0KiB client-requested in use in bin.\n",
      "2024-04-28 23:42:53.187361: I external/local_tsl/tsl/framework/bfc_allocator.cc:1051] Bin (1024): \tTotal Chunks: 13, Chunks in use: 13. 13.8KiB allocated for chunks. 13.8KiB in use in bin. 10.4KiB client-requested in use in bin.\n",
      "2024-04-28 23:42:53.187386: I external/local_tsl/tsl/framework/bfc_allocator.cc:1051] Bin (2048): \tTotal Chunks: 16, Chunks in use: 15. 50.0KiB allocated for chunks. 48.0KiB in use in bin. 46.2KiB client-requested in use in bin.\n",
      "2024-04-28 23:42:53.187405: I external/local_tsl/tsl/framework/bfc_allocator.cc:1051] Bin (4096): \tTotal Chunks: 4, Chunks in use: 3. 22.0KiB allocated for chunks. 15.8KiB in use in bin. 9.2KiB client-requested in use in bin.\n",
      "2024-04-28 23:42:53.187424: I external/local_tsl/tsl/framework/bfc_allocator.cc:1051] Bin (8192): \tTotal Chunks: 1, Chunks in use: 0. 10.8KiB allocated for chunks. 0B in use in bin. 0B client-requested in use in bin.\n",
      "2024-04-28 23:42:53.187442: I external/local_tsl/tsl/framework/bfc_allocator.cc:1051] Bin (16384): \tTotal Chunks: 1, Chunks in use: 0. 26.0KiB allocated for chunks. 0B in use in bin. 0B client-requested in use in bin.\n",
      "2024-04-28 23:42:53.187471: I external/local_tsl/tsl/framework/bfc_allocator.cc:1051] Bin (32768): \tTotal Chunks: 15, Chunks in use: 12. 529.5KiB allocated for chunks. 416.0KiB in use in bin. 384.0KiB client-requested in use in bin.\n",
      "2024-04-28 23:42:53.187499: I external/local_tsl/tsl/framework/bfc_allocator.cc:1051] Bin (65536): \tTotal Chunks: 1, Chunks in use: 0. 64.0KiB allocated for chunks. 0B in use in bin. 0B client-requested in use in bin.\n",
      "2024-04-28 23:42:53.187526: I external/local_tsl/tsl/framework/bfc_allocator.cc:1051] Bin (131072): \tTotal Chunks: 29, Chunks in use: 28. 3.89MiB allocated for chunks. 3.75MiB in use in bin. 3.57MiB client-requested in use in bin.\n",
      "2024-04-28 23:42:53.187554: I external/local_tsl/tsl/framework/bfc_allocator.cc:1051] Bin (262144): \tTotal Chunks: 4, Chunks in use: 4. 1.53MiB allocated for chunks. 1.53MiB in use in bin. 1.53MiB client-requested in use in bin.\n",
      "2024-04-28 23:42:53.187581: I external/local_tsl/tsl/framework/bfc_allocator.cc:1051] Bin (524288): \tTotal Chunks: 1, Chunks in use: 0. 832.0KiB allocated for chunks. 0B in use in bin. 0B client-requested in use in bin.\n",
      "2024-04-28 23:42:53.187608: I external/local_tsl/tsl/framework/bfc_allocator.cc:1051] Bin (1048576): \tTotal Chunks: 0, Chunks in use: 0. 0B allocated for chunks. 0B in use in bin. 0B client-requested in use in bin.\n",
      "2024-04-28 23:42:53.187634: I external/local_tsl/tsl/framework/bfc_allocator.cc:1051] Bin (2097152): \tTotal Chunks: 0, Chunks in use: 0. 0B allocated for chunks. 0B in use in bin. 0B client-requested in use in bin.\n",
      "2024-04-28 23:42:53.187663: I external/local_tsl/tsl/framework/bfc_allocator.cc:1051] Bin (4194304): \tTotal Chunks: 0, Chunks in use: 0. 0B allocated for chunks. 0B in use in bin. 0B client-requested in use in bin.\n",
      "2024-04-28 23:42:53.187692: I external/local_tsl/tsl/framework/bfc_allocator.cc:1051] Bin (8388608): \tTotal Chunks: 0, Chunks in use: 0. 0B allocated for chunks. 0B in use in bin. 0B client-requested in use in bin.\n",
      "2024-04-28 23:42:53.187721: I external/local_tsl/tsl/framework/bfc_allocator.cc:1051] Bin (16777216): \tTotal Chunks: 0, Chunks in use: 0. 0B allocated for chunks. 0B in use in bin. 0B client-requested in use in bin.\n",
      "2024-04-28 23:42:53.187750: I external/local_tsl/tsl/framework/bfc_allocator.cc:1051] Bin (33554432): \tTotal Chunks: 0, Chunks in use: 0. 0B allocated for chunks. 0B in use in bin. 0B client-requested in use in bin.\n",
      "2024-04-28 23:42:53.187787: I external/local_tsl/tsl/framework/bfc_allocator.cc:1051] Bin (67108864): \tTotal Chunks: 1, Chunks in use: 1. 117.19MiB allocated for chunks. 117.19MiB in use in bin. 117.19MiB client-requested in use in bin.\n",
      "2024-04-28 23:42:53.187816: I external/local_tsl/tsl/framework/bfc_allocator.cc:1051] Bin (134217728): \tTotal Chunks: 0, Chunks in use: 0. 0B allocated for chunks. 0B in use in bin. 0B client-requested in use in bin.\n",
      "2024-04-28 23:42:53.187847: I external/local_tsl/tsl/framework/bfc_allocator.cc:1051] Bin (268435456): \tTotal Chunks: 9, Chunks in use: 8. 9.68GiB allocated for chunks. 9.16GiB in use in bin. 9.16GiB client-requested in use in bin.\n",
      "2024-04-28 23:42:53.187875: I external/local_tsl/tsl/framework/bfc_allocator.cc:1067] Bin for 1.14GiB was 256.00MiB, Chunk State: \n",
      "2024-04-28 23:42:53.187904: I external/local_tsl/tsl/framework/bfc_allocator.cc:1073]   Size: 538.61MiB | Requested Size: 1.2KiB | in_use: 0 | bin_num: 20, prev:   Size: 144.0KiB | Requested Size: 144.0KiB | in_use: 1 | bin_num: -1\n",
      "2024-04-28 23:42:53.187919: I external/local_tsl/tsl/framework/bfc_allocator.cc:1080] Next region of size 10526392320\n",
      "2024-04-28 23:42:53.188134: I external/local_tsl/tsl/framework/bfc_allocator.cc:1100] InUse at 7c1d18000000 of size 256 next 1\n",
      "2024-04-28 23:42:53.188172: I external/local_tsl/tsl/framework/bfc_allocator.cc:1100] InUse at 7c1d18000100 of size 1280 next 2\n",
      "2024-04-28 23:42:53.188195: I external/local_tsl/tsl/framework/bfc_allocator.cc:1100] InUse at 7c1d18000600 of size 256 next 3\n",
      "2024-04-28 23:42:53.188215: I external/local_tsl/tsl/framework/bfc_allocator.cc:1100] InUse at 7c1d18000700 of size 256 next 4\n",
      "2024-04-28 23:42:53.188236: I external/local_tsl/tsl/framework/bfc_allocator.cc:1100] InUse at 7c1d18000800 of size 256 next 6\n",
      "2024-04-28 23:42:53.188263: I external/local_tsl/tsl/framework/bfc_allocator.cc:1100] InUse at 7c1d18000900 of size 256 next 7\n",
      "2024-04-28 23:42:53.188285: I external/local_tsl/tsl/framework/bfc_allocator.cc:1100] InUse at 7c1d18000a00 of size 256 next 5\n",
      "2024-04-28 23:42:53.188307: I external/local_tsl/tsl/framework/bfc_allocator.cc:1100] InUse at 7c1d18000b00 of size 256 next 8\n",
      "2024-04-28 23:42:53.188330: I external/local_tsl/tsl/framework/bfc_allocator.cc:1100] InUse at 7c1d18000c00 of size 256 next 13\n",
      "2024-04-28 23:42:53.188352: I external/local_tsl/tsl/framework/bfc_allocator.cc:1100] InUse at 7c1d18000d00 of size 256 next 11\n",
      "2024-04-28 23:42:53.188374: I external/local_tsl/tsl/framework/bfc_allocator.cc:1100] InUse at 7c1d18000e00 of size 256 next 12\n",
      "2024-04-28 23:42:53.188398: I external/local_tsl/tsl/framework/bfc_allocator.cc:1100] InUse at 7c1d18000f00 of size 256 next 16\n",
      "2024-04-28 23:42:53.188420: I external/local_tsl/tsl/framework/bfc_allocator.cc:1100] InUse at 7c1d18001000 of size 512 next 19\n",
      "2024-04-28 23:42:53.188441: I external/local_tsl/tsl/framework/bfc_allocator.cc:1100] InUse at 7c1d18001200 of size 256 next 17\n",
      "2024-04-28 23:42:53.188463: I external/local_tsl/tsl/framework/bfc_allocator.cc:1100] InUse at 7c1d18001300 of size 256 next 18\n",
      "2024-04-28 23:42:53.188484: I external/local_tsl/tsl/framework/bfc_allocator.cc:1100] InUse at 7c1d18001400 of size 256 next 22\n",
      "2024-04-28 23:42:53.188505: I external/local_tsl/tsl/framework/bfc_allocator.cc:1100] InUse at 7c1d18001500 of size 256 next 23\n",
      "2024-04-28 23:42:53.188528: I external/local_tsl/tsl/framework/bfc_allocator.cc:1100] InUse at 7c1d18001600 of size 1024 next 53\n",
      "2024-04-28 23:42:53.188550: I external/local_tsl/tsl/framework/bfc_allocator.cc:1100] InUse at 7c1d18001a00 of size 1024 next 49\n",
      "2024-04-28 23:42:53.188572: I external/local_tsl/tsl/framework/bfc_allocator.cc:1100] InUse at 7c1d18001e00 of size 256 next 51\n",
      "2024-04-28 23:42:53.188594: I external/local_tsl/tsl/framework/bfc_allocator.cc:1100] InUse at 7c1d18001f00 of size 256 next 55\n",
      "2024-04-28 23:42:53.188618: I external/local_tsl/tsl/framework/bfc_allocator.cc:1100] InUse at 7c1d18002000 of size 256 next 56\n",
      "2024-04-28 23:42:53.188644: I external/local_tsl/tsl/framework/bfc_allocator.cc:1100] InUse at 7c1d18002100 of size 256 next 62\n",
      "2024-04-28 23:42:53.188664: I external/local_tsl/tsl/framework/bfc_allocator.cc:1100] InUse at 7c1d18002200 of size 512 next 61\n",
      "2024-04-28 23:42:53.188686: I external/local_tsl/tsl/framework/bfc_allocator.cc:1100] InUse at 7c1d18002400 of size 256 next 65\n",
      "2024-04-28 23:42:53.188707: I external/local_tsl/tsl/framework/bfc_allocator.cc:1100] InUse at 7c1d18002500 of size 256 next 67\n",
      "2024-04-28 23:42:53.188729: I external/local_tsl/tsl/framework/bfc_allocator.cc:1100] InUse at 7c1d18002600 of size 256 next 9\n",
      "2024-04-28 23:42:53.188751: I external/local_tsl/tsl/framework/bfc_allocator.cc:1100] InUse at 7c1d18002700 of size 3584 next 10\n",
      "2024-04-28 23:42:53.188773: I external/local_tsl/tsl/framework/bfc_allocator.cc:1100] InUse at 7c1d18003500 of size 256 next 24\n",
      "2024-04-28 23:42:53.188794: I external/local_tsl/tsl/framework/bfc_allocator.cc:1100] InUse at 7c1d18003600 of size 256 next 28\n",
      "2024-04-28 23:42:53.188815: I external/local_tsl/tsl/framework/bfc_allocator.cc:1100] InUse at 7c1d18003700 of size 256 next 27\n",
      "2024-04-28 23:42:53.188837: I external/local_tsl/tsl/framework/bfc_allocator.cc:1100] InUse at 7c1d18003800 of size 512 next 29\n",
      "2024-04-28 23:42:53.188857: I external/local_tsl/tsl/framework/bfc_allocator.cc:1100] InUse at 7c1d18003a00 of size 256 next 36\n",
      "2024-04-28 23:42:53.188876: I external/local_tsl/tsl/framework/bfc_allocator.cc:1100] InUse at 7c1d18003b00 of size 256 next 34\n",
      "2024-04-28 23:42:53.188895: I external/local_tsl/tsl/framework/bfc_allocator.cc:1100] InUse at 7c1d18003c00 of size 256 next 35\n",
      "2024-04-28 23:42:53.188914: I external/local_tsl/tsl/framework/bfc_allocator.cc:1100] InUse at 7c1d18003d00 of size 256 next 38\n",
      "2024-04-28 23:42:53.188935: I external/local_tsl/tsl/framework/bfc_allocator.cc:1100] InUse at 7c1d18003e00 of size 256 next 41\n",
      "2024-04-28 23:42:53.188956: I external/local_tsl/tsl/framework/bfc_allocator.cc:1100] InUse at 7c1d18003f00 of size 256 next 42\n",
      "2024-04-28 23:42:53.188978: I external/local_tsl/tsl/framework/bfc_allocator.cc:1100] InUse at 7c1d18004000 of size 256 next 43\n",
      "2024-04-28 23:42:53.188999: I external/local_tsl/tsl/framework/bfc_allocator.cc:1100] InUse at 7c1d18004100 of size 256 next 44\n",
      "2024-04-28 23:42:53.189021: I external/local_tsl/tsl/framework/bfc_allocator.cc:1100] InUse at 7c1d18004200 of size 256 next 60\n",
      "2024-04-28 23:42:53.189041: I external/local_tsl/tsl/framework/bfc_allocator.cc:1100] InUse at 7c1d18004300 of size 256 next 30\n",
      "2024-04-28 23:42:53.189062: I external/local_tsl/tsl/framework/bfc_allocator.cc:1100] InUse at 7c1d18004400 of size 3584 next 31\n",
      "2024-04-28 23:42:53.189083: I external/local_tsl/tsl/framework/bfc_allocator.cc:1100] InUse at 7c1d18005200 of size 256 next 181\n",
      "2024-04-28 23:42:53.189105: I external/local_tsl/tsl/framework/bfc_allocator.cc:1100] InUse at 7c1d18005300 of size 256 next 199\n",
      "2024-04-28 23:42:53.189128: I external/local_tsl/tsl/framework/bfc_allocator.cc:1100] InUse at 7c1d18005400 of size 256 next 197\n",
      "2024-04-28 23:42:53.189149: I external/local_tsl/tsl/framework/bfc_allocator.cc:1100] InUse at 7c1d18005500 of size 512 next 203\n",
      "2024-04-28 23:42:53.189172: I external/local_tsl/tsl/framework/bfc_allocator.cc:1100] InUse at 7c1d18005700 of size 256 next 206\n",
      "2024-04-28 23:42:53.189194: I external/local_tsl/tsl/framework/bfc_allocator.cc:1100] InUse at 7c1d18005800 of size 256 next 208\n",
      "2024-04-28 23:42:53.189215: I external/local_tsl/tsl/framework/bfc_allocator.cc:1100] InUse at 7c1d18005900 of size 256 next 211\n",
      "2024-04-28 23:42:53.189229: I external/local_tsl/tsl/framework/bfc_allocator.cc:1100] InUse at 7c1d18005a00 of size 256 next 212\n",
      "2024-04-28 23:42:53.189242: I external/local_tsl/tsl/framework/bfc_allocator.cc:1100] InUse at 7c1d18005b00 of size 256 next 217\n",
      "2024-04-28 23:42:53.189256: I external/local_tsl/tsl/framework/bfc_allocator.cc:1100] InUse at 7c1d18005c00 of size 256 next 215\n",
      "2024-04-28 23:42:53.189272: I external/local_tsl/tsl/framework/bfc_allocator.cc:1100] InUse at 7c1d18005d00 of size 512 next 216\n",
      "2024-04-28 23:42:53.189286: I external/local_tsl/tsl/framework/bfc_allocator.cc:1100] InUse at 7c1d18005f00 of size 256 next 221\n",
      "2024-04-28 23:42:53.189299: I external/local_tsl/tsl/framework/bfc_allocator.cc:1100] InUse at 7c1d18006000 of size 256 next 204\n",
      "2024-04-28 23:42:53.189313: I external/local_tsl/tsl/framework/bfc_allocator.cc:1100] InUse at 7c1d18006100 of size 3584 next 205\n",
      "2024-04-28 23:42:53.189327: I external/local_tsl/tsl/framework/bfc_allocator.cc:1100] Free  at 7c1d18006f00 of size 50688 next 15\n",
      "2024-04-28 23:42:53.189342: I external/local_tsl/tsl/framework/bfc_allocator.cc:1100] InUse at 7c1d18013500 of size 32768 next 14\n",
      "2024-04-28 23:42:53.189358: I external/local_tsl/tsl/framework/bfc_allocator.cc:1100] InUse at 7c1d1801b500 of size 131072 next 89\n",
      "2024-04-28 23:42:53.189373: I external/local_tsl/tsl/framework/bfc_allocator.cc:1100] InUse at 7c1d1803b500 of size 131072 next 21\n",
      "2024-04-28 23:42:53.189387: I external/local_tsl/tsl/framework/bfc_allocator.cc:1100] InUse at 7c1d1805b500 of size 131072 next 20\n",
      "2024-04-28 23:42:53.189410: I external/local_tsl/tsl/framework/bfc_allocator.cc:1100] InUse at 7c1d1807b500 of size 1024 next 48\n",
      "2024-04-28 23:42:53.189426: I external/local_tsl/tsl/framework/bfc_allocator.cc:1100] InUse at 7c1d1807b900 of size 1536 next 46\n",
      "2024-04-28 23:42:53.189441: I external/local_tsl/tsl/framework/bfc_allocator.cc:1100] InUse at 7c1d1807bf00 of size 2560 next 45\n",
      "2024-04-28 23:42:53.189456: I external/local_tsl/tsl/framework/bfc_allocator.cc:1100] InUse at 7c1d1807c900 of size 256 next 86\n",
      "2024-04-28 23:42:53.189469: I external/local_tsl/tsl/framework/bfc_allocator.cc:1100] InUse at 7c1d1807ca00 of size 256 next 106\n",
      "2024-04-28 23:42:53.189483: I external/local_tsl/tsl/framework/bfc_allocator.cc:1100] InUse at 7c1d1807cb00 of size 256 next 112\n",
      "2024-04-28 23:42:53.189496: I external/local_tsl/tsl/framework/bfc_allocator.cc:1100] InUse at 7c1d1807cc00 of size 512 next 96\n",
      "2024-04-28 23:42:53.189510: I external/local_tsl/tsl/framework/bfc_allocator.cc:1100] InUse at 7c1d1807ce00 of size 5888 next 64\n",
      "2024-04-28 23:42:53.189524: I external/local_tsl/tsl/framework/bfc_allocator.cc:1100] InUse at 7c1d1807e500 of size 3584 next 63\n",
      "2024-04-28 23:42:53.189537: I external/local_tsl/tsl/framework/bfc_allocator.cc:1100] InUse at 7c1d1807f300 of size 256 next 70\n",
      "2024-04-28 23:42:53.189551: I external/local_tsl/tsl/framework/bfc_allocator.cc:1100] InUse at 7c1d1807f400 of size 256 next 74\n",
      "2024-04-28 23:42:53.189564: I external/local_tsl/tsl/framework/bfc_allocator.cc:1100] InUse at 7c1d1807f500 of size 256 next 73\n",
      "2024-04-28 23:42:53.189577: I external/local_tsl/tsl/framework/bfc_allocator.cc:1100] InUse at 7c1d1807f600 of size 512 next 75\n",
      "2024-04-28 23:42:53.189591: I external/local_tsl/tsl/framework/bfc_allocator.cc:1100] InUse at 7c1d1807f800 of size 256 next 79\n",
      "2024-04-28 23:42:53.189604: I external/local_tsl/tsl/framework/bfc_allocator.cc:1100] InUse at 7c1d1807f900 of size 256 next 80\n",
      "2024-04-28 23:42:53.189617: I external/local_tsl/tsl/framework/bfc_allocator.cc:1100] InUse at 7c1d1807fa00 of size 256 next 82\n",
      "2024-04-28 23:42:53.189630: I external/local_tsl/tsl/framework/bfc_allocator.cc:1100] InUse at 7c1d1807fb00 of size 256 next 83\n",
      "2024-04-28 23:42:53.189644: I external/local_tsl/tsl/framework/bfc_allocator.cc:1100] InUse at 7c1d1807fc00 of size 256 next 92\n",
      "2024-04-28 23:42:53.189657: I external/local_tsl/tsl/framework/bfc_allocator.cc:1100] InUse at 7c1d1807fd00 of size 256 next 87\n",
      "2024-04-28 23:42:53.189671: I external/local_tsl/tsl/framework/bfc_allocator.cc:1100] InUse at 7c1d1807fe00 of size 256 next 50\n",
      "2024-04-28 23:42:53.189684: I external/local_tsl/tsl/framework/bfc_allocator.cc:1100] InUse at 7c1d1807ff00 of size 256 next 57\n",
      "2024-04-28 23:42:53.189697: I external/local_tsl/tsl/framework/bfc_allocator.cc:1100] InUse at 7c1d18080000 of size 256 next 139\n",
      "2024-04-28 23:42:53.189712: I external/local_tsl/tsl/framework/bfc_allocator.cc:1100] InUse at 7c1d18080100 of size 256 next 76\n",
      "2024-04-28 23:42:53.189726: I external/local_tsl/tsl/framework/bfc_allocator.cc:1100] InUse at 7c1d18080200 of size 3584 next 77\n",
      "2024-04-28 23:42:53.189739: I external/local_tsl/tsl/framework/bfc_allocator.cc:1100] InUse at 7c1d18081000 of size 2560 next 88\n",
      "2024-04-28 23:42:53.189753: I external/local_tsl/tsl/framework/bfc_allocator.cc:1100] InUse at 7c1d18081a00 of size 4608 next 113\n",
      "2024-04-28 23:42:53.189767: I external/local_tsl/tsl/framework/bfc_allocator.cc:1100] InUse at 7c1d18082c00 of size 256 next 97\n",
      "2024-04-28 23:42:53.189781: I external/local_tsl/tsl/framework/bfc_allocator.cc:1100] InUse at 7c1d18082d00 of size 256 next 109\n",
      "2024-04-28 23:42:53.189794: I external/local_tsl/tsl/framework/bfc_allocator.cc:1100] InUse at 7c1d18082e00 of size 256 next 102\n",
      "2024-04-28 23:42:53.189808: I external/local_tsl/tsl/framework/bfc_allocator.cc:1100] InUse at 7c1d18082f00 of size 256 next 105\n",
      "2024-04-28 23:42:53.189821: I external/local_tsl/tsl/framework/bfc_allocator.cc:1100] InUse at 7c1d18083000 of size 256 next 108\n",
      "2024-04-28 23:42:53.189834: I external/local_tsl/tsl/framework/bfc_allocator.cc:1100] InUse at 7c1d18083100 of size 512 next 58\n",
      "2024-04-28 23:42:53.189848: I external/local_tsl/tsl/framework/bfc_allocator.cc:1100] InUse at 7c1d18083300 of size 256 next 107\n",
      "2024-04-28 23:42:53.189861: I external/local_tsl/tsl/framework/bfc_allocator.cc:1100] InUse at 7c1d18083400 of size 256 next 33\n",
      "2024-04-28 23:42:53.189875: I external/local_tsl/tsl/framework/bfc_allocator.cc:1100] InUse at 7c1d18083500 of size 32768 next 32\n",
      "2024-04-28 23:42:53.189888: I external/local_tsl/tsl/framework/bfc_allocator.cc:1100] InUse at 7c1d1808b500 of size 256 next 94\n",
      "2024-04-28 23:42:53.189902: I external/local_tsl/tsl/framework/bfc_allocator.cc:1100] InUse at 7c1d1808b600 of size 256 next 98\n",
      "2024-04-28 23:42:53.189915: I external/local_tsl/tsl/framework/bfc_allocator.cc:1100] InUse at 7c1d1808b700 of size 256 next 420\n",
      "2024-04-28 23:42:53.189929: I external/local_tsl/tsl/framework/bfc_allocator.cc:1100] InUse at 7c1d1808b800 of size 256 next 424\n",
      "2024-04-28 23:42:53.189942: I external/local_tsl/tsl/framework/bfc_allocator.cc:1100] InUse at 7c1d1808b900 of size 256 next 103\n",
      "2024-04-28 23:42:53.189955: I external/local_tsl/tsl/framework/bfc_allocator.cc:1100] InUse at 7c1d1808ba00 of size 256 next 419\n",
      "2024-04-28 23:42:53.189969: I external/local_tsl/tsl/framework/bfc_allocator.cc:1100] InUse at 7c1d1808bb00 of size 256 next 425\n",
      "2024-04-28 23:42:53.189982: I external/local_tsl/tsl/framework/bfc_allocator.cc:1100] InUse at 7c1d1808bc00 of size 256 next 116\n",
      "2024-04-28 23:42:53.189995: I external/local_tsl/tsl/framework/bfc_allocator.cc:1100] InUse at 7c1d1808bd00 of size 256 next 114\n",
      "2024-04-28 23:42:53.190009: I external/local_tsl/tsl/framework/bfc_allocator.cc:1100] InUse at 7c1d1808be00 of size 256 next 110\n",
      "2024-04-28 23:42:53.190022: I external/local_tsl/tsl/framework/bfc_allocator.cc:1100] InUse at 7c1d1808bf00 of size 256 next 117\n",
      "2024-04-28 23:42:53.190036: I external/local_tsl/tsl/framework/bfc_allocator.cc:1100] InUse at 7c1d1808c000 of size 768 next 99\n",
      "2024-04-28 23:42:53.190050: I external/local_tsl/tsl/framework/bfc_allocator.cc:1100] InUse at 7c1d1808c300 of size 256 next 141\n",
      "2024-04-28 23:42:53.190063: I external/local_tsl/tsl/framework/bfc_allocator.cc:1100] InUse at 7c1d1808c400 of size 512 next 140\n",
      "2024-04-28 23:42:53.190076: I external/local_tsl/tsl/framework/bfc_allocator.cc:1100] InUse at 7c1d1808c600 of size 256 next 143\n",
      "2024-04-28 23:42:53.190090: I external/local_tsl/tsl/framework/bfc_allocator.cc:1100] InUse at 7c1d1808c700 of size 256 next 145\n",
      "2024-04-28 23:42:53.190103: I external/local_tsl/tsl/framework/bfc_allocator.cc:1100] InUse at 7c1d1808c800 of size 256 next 148\n",
      "2024-04-28 23:42:53.190117: I external/local_tsl/tsl/framework/bfc_allocator.cc:1100] InUse at 7c1d1808c900 of size 256 next 149\n",
      "2024-04-28 23:42:53.190131: I external/local_tsl/tsl/framework/bfc_allocator.cc:1100] InUse at 7c1d1808ca00 of size 256 next 154\n",
      "2024-04-28 23:42:53.190145: I external/local_tsl/tsl/framework/bfc_allocator.cc:1100] InUse at 7c1d1808cb00 of size 256 next 152\n",
      "2024-04-28 23:42:53.190158: I external/local_tsl/tsl/framework/bfc_allocator.cc:1100] InUse at 7c1d1808cc00 of size 512 next 153\n",
      "2024-04-28 23:42:53.190172: I external/local_tsl/tsl/framework/bfc_allocator.cc:1100] InUse at 7c1d1808ce00 of size 256 next 157\n",
      "2024-04-28 23:42:53.190185: I external/local_tsl/tsl/framework/bfc_allocator.cc:1100] InUse at 7c1d1808cf00 of size 256 next 158\n",
      "2024-04-28 23:42:53.190198: I external/local_tsl/tsl/framework/bfc_allocator.cc:1100] InUse at 7c1d1808d000 of size 256 next 111\n",
      "2024-04-28 23:42:53.190212: I external/local_tsl/tsl/framework/bfc_allocator.cc:1100] InUse at 7c1d1808d100 of size 256 next 123\n",
      "2024-04-28 23:42:53.190225: I external/local_tsl/tsl/framework/bfc_allocator.cc:1100] InUse at 7c1d1808d200 of size 256 next 133\n",
      "2024-04-28 23:42:53.190238: I external/local_tsl/tsl/framework/bfc_allocator.cc:1100] InUse at 7c1d1808d300 of size 256 next 136\n",
      "2024-04-28 23:42:53.190252: I external/local_tsl/tsl/framework/bfc_allocator.cc:1100] InUse at 7c1d1808d400 of size 256 next 125\n",
      "2024-04-28 23:42:53.190265: I external/local_tsl/tsl/framework/bfc_allocator.cc:1100] InUse at 7c1d1808d500 of size 256 next 124\n",
      "2024-04-28 23:42:53.190278: I external/local_tsl/tsl/framework/bfc_allocator.cc:1100] InUse at 7c1d1808d600 of size 256 next 115\n",
      "2024-04-28 23:42:53.190293: I external/local_tsl/tsl/framework/bfc_allocator.cc:1100] InUse at 7c1d1808d700 of size 5632 next 118\n",
      "2024-04-28 23:42:53.190306: I external/local_tsl/tsl/framework/bfc_allocator.cc:1100] InUse at 7c1d1808ed00 of size 512 next 127\n",
      "2024-04-28 23:42:53.190320: I external/local_tsl/tsl/framework/bfc_allocator.cc:1100] InUse at 7c1d1808ef00 of size 3072 next 120\n",
      "2024-04-28 23:42:53.190334: I external/local_tsl/tsl/framework/bfc_allocator.cc:1100] InUse at 7c1d1808fb00 of size 256 next 128\n",
      "2024-04-28 23:42:53.190376: I external/local_tsl/tsl/framework/bfc_allocator.cc:1100] InUse at 7c1d1808fc00 of size 256 next 121\n",
      "2024-04-28 23:42:53.190390: I external/local_tsl/tsl/framework/bfc_allocator.cc:1100] InUse at 7c1d1808fd00 of size 3584 next 95\n",
      "2024-04-28 23:42:53.190403: I external/local_tsl/tsl/framework/bfc_allocator.cc:1100] InUse at 7c1d18090b00 of size 3584 next 91\n",
      "2024-04-28 23:42:53.190417: I external/local_tsl/tsl/framework/bfc_allocator.cc:1100] InUse at 7c1d18091900 of size 256 next 160\n",
      "2024-04-28 23:42:53.190430: I external/local_tsl/tsl/framework/bfc_allocator.cc:1100] InUse at 7c1d18091a00 of size 256 next 163\n",
      "2024-04-28 23:42:53.190444: I external/local_tsl/tsl/framework/bfc_allocator.cc:1100] Free  at 7c1d18091b00 of size 512 next 162\n",
      "2024-04-28 23:42:53.190457: I external/local_tsl/tsl/framework/bfc_allocator.cc:1100] InUse at 7c1d18091d00 of size 1024 next 165\n",
      "2024-04-28 23:42:53.190471: I external/local_tsl/tsl/framework/bfc_allocator.cc:1100] InUse at 7c1d18092100 of size 1024 next 167\n",
      "2024-04-28 23:42:53.190484: I external/local_tsl/tsl/framework/bfc_allocator.cc:1100] InUse at 7c1d18092500 of size 1024 next 168\n",
      "2024-04-28 23:42:53.190498: I external/local_tsl/tsl/framework/bfc_allocator.cc:1100] InUse at 7c1d18092900 of size 1024 next 169\n",
      "2024-04-28 23:42:53.190511: I external/local_tsl/tsl/framework/bfc_allocator.cc:1100] Free  at 7c1d18092d00 of size 2048 next 66\n",
      "2024-04-28 23:42:53.190525: I external/local_tsl/tsl/framework/bfc_allocator.cc:1100] InUse at 7c1d18093500 of size 49152 next 26\n",
      "2024-04-28 23:42:53.190539: I external/local_tsl/tsl/framework/bfc_allocator.cc:1100] InUse at 7c1d1809f500 of size 147456 next 25\n",
      "2024-04-28 23:42:53.190553: I external/local_tsl/tsl/framework/bfc_allocator.cc:1100] InUse at 7c1d180c3500 of size 131072 next 37\n",
      "2024-04-28 23:42:53.190567: I external/local_tsl/tsl/framework/bfc_allocator.cc:1100] InUse at 7c1d180e3500 of size 32768 next 93\n",
      "2024-04-28 23:42:53.190582: I external/local_tsl/tsl/framework/bfc_allocator.cc:1100] InUse at 7c1d180eb500 of size 32768 next 85\n",
      "2024-04-28 23:42:53.190595: I external/local_tsl/tsl/framework/bfc_allocator.cc:1100] Free  at 7c1d180f3500 of size 32768 next 144\n",
      "2024-04-28 23:42:53.190609: I external/local_tsl/tsl/framework/bfc_allocator.cc:1100] InUse at 7c1d180fb500 of size 49152 next 40\n",
      "2024-04-28 23:42:53.190623: I external/local_tsl/tsl/framework/bfc_allocator.cc:1100] InUse at 7c1d18107500 of size 147456 next 39\n",
      "2024-04-28 23:42:53.190637: I external/local_tsl/tsl/framework/bfc_allocator.cc:1100] InUse at 7c1d1812b500 of size 1228800000 next 164\n",
      "2024-04-28 23:42:53.190651: I external/local_tsl/tsl/framework/bfc_allocator.cc:1100] InUse at 7c1d6150b500 of size 1228800000 next 172\n",
      "2024-04-28 23:42:53.190665: I external/local_tsl/tsl/framework/bfc_allocator.cc:1100] InUse at 7c1daa8eb500 of size 1228800000 next 170\n",
      "2024-04-28 23:42:53.190678: I external/local_tsl/tsl/framework/bfc_allocator.cc:1100] InUse at 7c1df3ccb500 of size 1229600256 next 59\n",
      "2024-04-28 23:42:53.190693: I external/local_tsl/tsl/framework/bfc_allocator.cc:1100] InUse at 7c1e3d16eb00 of size 32768 next 78\n",
      "2024-04-28 23:42:53.190706: I external/local_tsl/tsl/framework/bfc_allocator.cc:1100] InUse at 7c1e3d176b00 of size 3584 next 142\n",
      "2024-04-28 23:42:53.190720: I external/local_tsl/tsl/framework/bfc_allocator.cc:1100] InUse at 7c1e3d177900 of size 3584 next 155\n",
      "2024-04-28 23:42:53.190733: I external/local_tsl/tsl/framework/bfc_allocator.cc:1100] InUse at 7c1e3d178700 of size 2560 next 166\n",
      "2024-04-28 23:42:53.190747: I external/local_tsl/tsl/framework/bfc_allocator.cc:1100] Free  at 7c1e3d179100 of size 11008 next 190\n",
      "2024-04-28 23:42:53.190760: I external/local_tsl/tsl/framework/bfc_allocator.cc:1100] InUse at 7c1e3d17bc00 of size 256 next 222\n",
      "2024-04-28 23:42:53.190774: I external/local_tsl/tsl/framework/bfc_allocator.cc:1100] InUse at 7c1e3d17bd00 of size 256 next 224\n",
      "2024-04-28 23:42:53.190787: I external/local_tsl/tsl/framework/bfc_allocator.cc:1100] Free  at 7c1e3d17be00 of size 512 next 228\n",
      "2024-04-28 23:42:53.190801: I external/local_tsl/tsl/framework/bfc_allocator.cc:1100] InUse at 7c1e3d17c000 of size 1024 next 226\n",
      "2024-04-28 23:42:53.190814: I external/local_tsl/tsl/framework/bfc_allocator.cc:1100] InUse at 7c1e3d17c400 of size 1024 next 229\n",
      "2024-04-28 23:42:53.190828: I external/local_tsl/tsl/framework/bfc_allocator.cc:1100] InUse at 7c1e3d17c800 of size 1024 next 230\n",
      "2024-04-28 23:42:53.190842: I external/local_tsl/tsl/framework/bfc_allocator.cc:1100] InUse at 7c1e3d17cc00 of size 1024 next 231\n",
      "2024-04-28 23:42:53.190855: I external/local_tsl/tsl/framework/bfc_allocator.cc:1100] InUse at 7c1e3d17d000 of size 256 next 232\n",
      "2024-04-28 23:42:53.190868: I external/local_tsl/tsl/framework/bfc_allocator.cc:1100] InUse at 7c1e3d17d100 of size 256 next 233\n",
      "2024-04-28 23:42:53.190882: I external/local_tsl/tsl/framework/bfc_allocator.cc:1100] Free  at 7c1e3d17d200 of size 6400 next 101\n",
      "2024-04-28 23:42:53.190895: I external/local_tsl/tsl/framework/bfc_allocator.cc:1100] InUse at 7c1e3d17eb00 of size 32768 next 122\n",
      "2024-04-28 23:42:53.190909: I external/local_tsl/tsl/framework/bfc_allocator.cc:1100] InUse at 7c1e3d186b00 of size 32768 next 69\n",
      "2024-04-28 23:42:53.190923: I external/local_tsl/tsl/framework/bfc_allocator.cc:1100] InUse at 7c1e3d18eb00 of size 131072 next 68\n",
      "2024-04-28 23:42:53.190936: I external/local_tsl/tsl/framework/bfc_allocator.cc:1100] InUse at 7c1e3d1aeb00 of size 147456 next 72\n",
      "2024-04-28 23:42:53.190950: I external/local_tsl/tsl/framework/bfc_allocator.cc:1100] InUse at 7c1e3d1d2b00 of size 147456 next 71\n",
      "2024-04-28 23:42:53.190963: I external/local_tsl/tsl/framework/bfc_allocator.cc:1100] InUse at 7c1e3d1f6b00 of size 131072 next 81\n",
      "2024-04-28 23:42:53.190977: I external/local_tsl/tsl/framework/bfc_allocator.cc:1100] InUse at 7c1e3d216b00 of size 147456 next 84\n",
      "2024-04-28 23:42:53.190990: I external/local_tsl/tsl/framework/bfc_allocator.cc:1100] InUse at 7c1e3d23ab00 of size 147456 next 90\n",
      "2024-04-28 23:42:53.191005: I external/local_tsl/tsl/framework/bfc_allocator.cc:1100] InUse at 7c1e3d25eb00 of size 147456 next 52\n",
      "2024-04-28 23:42:53.191019: I external/local_tsl/tsl/framework/bfc_allocator.cc:1100] InUse at 7c1e3d282b00 of size 1228800000 next 132\n",
      "2024-04-28 23:42:53.191033: I external/local_tsl/tsl/framework/bfc_allocator.cc:1100] InUse at 7c1e86662b00 of size 1229036288 next 104\n",
      "2024-04-28 23:42:53.191047: I external/local_tsl/tsl/framework/bfc_allocator.cc:1100] InUse at 7c1ecfa7c600 of size 131072 next 119\n",
      "2024-04-28 23:42:53.191061: I external/local_tsl/tsl/framework/bfc_allocator.cc:1100] InUse at 7c1ecfa9c600 of size 147456 next 126\n",
      "2024-04-28 23:42:53.191075: I external/local_tsl/tsl/framework/bfc_allocator.cc:1100] InUse at 7c1ecfac0600 of size 131072 next 54\n",
      "2024-04-28 23:42:53.191088: I external/local_tsl/tsl/framework/bfc_allocator.cc:1100] InUse at 7c1ecfae0600 of size 147456 next 129\n",
      "2024-04-28 23:42:53.191102: I external/local_tsl/tsl/framework/bfc_allocator.cc:1100] InUse at 7c1ecfb04600 of size 147456 next 131\n",
      "2024-04-28 23:42:53.191115: I external/local_tsl/tsl/framework/bfc_allocator.cc:1100] InUse at 7c1ecfb28600 of size 147456 next 130\n",
      "2024-04-28 23:42:53.191129: I external/local_tsl/tsl/framework/bfc_allocator.cc:1100] InUse at 7c1ecfb4c600 of size 122880000 next 135\n",
      "2024-04-28 23:42:53.191143: I external/local_tsl/tsl/framework/bfc_allocator.cc:1100] InUse at 7c1ed707c600 of size 400128 next 134\n",
      "2024-04-28 23:42:53.191158: I external/local_tsl/tsl/framework/bfc_allocator.cc:1100] InUse at 7c1ed70de100 of size 1228800000 next 47\n",
      "2024-04-28 23:42:53.191172: I external/local_tsl/tsl/framework/bfc_allocator.cc:1100] InUse at 7c1f204be100 of size 1228800000 next 137\n",
      "2024-04-28 23:42:53.191185: I external/local_tsl/tsl/framework/bfc_allocator.cc:1100] InUse at 7c1f6989e100 of size 400128 next 138\n",
      "2024-04-28 23:42:53.191199: I external/local_tsl/tsl/framework/bfc_allocator.cc:1100] InUse at 7c1f698ffc00 of size 32768 next 156\n",
      "2024-04-28 23:42:53.191212: I external/local_tsl/tsl/framework/bfc_allocator.cc:1100] Free  at 7c1f69907c00 of size 32768 next 185\n",
      "2024-04-28 23:42:53.191226: I external/local_tsl/tsl/framework/bfc_allocator.cc:1100] InUse at 7c1f6990fc00 of size 3584 next 218\n",
      "2024-04-28 23:42:53.191240: I external/local_tsl/tsl/framework/bfc_allocator.cc:1100] InUse at 7c1f69910a00 of size 2560 next 100\n",
      "2024-04-28 23:42:53.191253: I external/local_tsl/tsl/framework/bfc_allocator.cc:1100] Free  at 7c1f69911400 of size 26624 next 207\n",
      "2024-04-28 23:42:53.191266: I external/local_tsl/tsl/framework/bfc_allocator.cc:1100] InUse at 7c1f69917c00 of size 32768 next 147\n",
      "2024-04-28 23:42:53.191280: I external/local_tsl/tsl/framework/bfc_allocator.cc:1100] InUse at 7c1f6991fc00 of size 131072 next 146\n",
      "2024-04-28 23:42:53.191293: I external/local_tsl/tsl/framework/bfc_allocator.cc:1100] InUse at 7c1f6993fc00 of size 147456 next 151\n",
      "2024-04-28 23:42:53.191307: I external/local_tsl/tsl/framework/bfc_allocator.cc:1100] InUse at 7c1f69963c00 of size 147456 next 150\n",
      "2024-04-28 23:42:53.191320: I external/local_tsl/tsl/framework/bfc_allocator.cc:1100] InUse at 7c1f69987c00 of size 131072 next 159\n",
      "2024-04-28 23:42:53.191334: I external/local_tsl/tsl/framework/bfc_allocator.cc:1100] InUse at 7c1f699a7c00 of size 147456 next 161\n",
      "2024-04-28 23:42:53.191348: I external/local_tsl/tsl/framework/bfc_allocator.cc:1100] InUse at 7c1f699cbc00 of size 400128 next 173\n",
      "2024-04-28 23:42:53.191361: I external/local_tsl/tsl/framework/bfc_allocator.cc:1100] InUse at 7c1f69a2d700 of size 400128 next 171\n",
      "2024-04-28 23:42:53.191374: I external/local_tsl/tsl/framework/bfc_allocator.cc:1100] Free  at 7c1f69a8f200 of size 851968 next 220\n",
      "2024-04-28 23:42:53.191388: I external/local_tsl/tsl/framework/bfc_allocator.cc:1100] InUse at 7c1f69b5f200 of size 32768 next 219\n",
      "2024-04-28 23:42:53.191401: I external/local_tsl/tsl/framework/bfc_allocator.cc:1100] Free  at 7c1f69b67200 of size 65536 next 210\n",
      "2024-04-28 23:42:53.191417: I external/local_tsl/tsl/framework/bfc_allocator.cc:1100] InUse at 7c1f69b77200 of size 131072 next 209\n",
      "2024-04-28 23:42:53.191431: I external/local_tsl/tsl/framework/bfc_allocator.cc:1100] Free  at 7c1f69b97200 of size 147456 next 214\n",
      "2024-04-28 23:42:53.191444: I external/local_tsl/tsl/framework/bfc_allocator.cc:1100] InUse at 7c1f69bbb200 of size 147456 next 213\n",
      "2024-04-28 23:42:53.191458: I external/local_tsl/tsl/framework/bfc_allocator.cc:1100] InUse at 7c1f69bdf200 of size 131072 next 223\n",
      "2024-04-28 23:42:53.191472: I external/local_tsl/tsl/framework/bfc_allocator.cc:1100] InUse at 7c1f69bff200 of size 147456 next 225\n",
      "2024-04-28 23:42:53.191486: I external/local_tsl/tsl/framework/bfc_allocator.cc:1100] Free  at 7c1f69c23200 of size 564776448 next 18446744073709551615\n",
      "2024-04-28 23:42:53.191499: I external/local_tsl/tsl/framework/bfc_allocator.cc:1105]      Summary of in-use Chunks by size: \n",
      "2024-04-28 23:42:53.191523: I external/local_tsl/tsl/framework/bfc_allocator.cc:1108] 104 Chunks of size 256 totalling 26.0KiB\n",
      "2024-04-28 23:42:53.191539: I external/local_tsl/tsl/framework/bfc_allocator.cc:1108] 11 Chunks of size 512 totalling 5.5KiB\n",
      "2024-04-28 23:42:53.191554: I external/local_tsl/tsl/framework/bfc_allocator.cc:1108] 1 Chunks of size 768 totalling 768B\n",
      "2024-04-28 23:42:53.191570: I external/local_tsl/tsl/framework/bfc_allocator.cc:1108] 11 Chunks of size 1024 totalling 11.0KiB\n",
      "2024-04-28 23:42:53.191585: I external/local_tsl/tsl/framework/bfc_allocator.cc:1108] 1 Chunks of size 1280 totalling 1.2KiB\n",
      "2024-04-28 23:42:53.191599: I external/local_tsl/tsl/framework/bfc_allocator.cc:1108] 1 Chunks of size 1536 totalling 1.5KiB\n",
      "2024-04-28 23:42:53.191614: I external/local_tsl/tsl/framework/bfc_allocator.cc:1108] 4 Chunks of size 2560 totalling 10.0KiB\n",
      "2024-04-28 23:42:53.191629: I external/local_tsl/tsl/framework/bfc_allocator.cc:1108] 1 Chunks of size 3072 totalling 3.0KiB\n",
      "2024-04-28 23:42:53.191644: I external/local_tsl/tsl/framework/bfc_allocator.cc:1108] 10 Chunks of size 3584 totalling 35.0KiB\n",
      "2024-04-28 23:42:53.191658: I external/local_tsl/tsl/framework/bfc_allocator.cc:1108] 1 Chunks of size 4608 totalling 4.5KiB\n",
      "2024-04-28 23:42:53.191673: I external/local_tsl/tsl/framework/bfc_allocator.cc:1108] 1 Chunks of size 5632 totalling 5.5KiB\n",
      "2024-04-28 23:42:53.191688: I external/local_tsl/tsl/framework/bfc_allocator.cc:1108] 1 Chunks of size 5888 totalling 5.8KiB\n",
      "2024-04-28 23:42:53.191703: I external/local_tsl/tsl/framework/bfc_allocator.cc:1108] 10 Chunks of size 32768 totalling 320.0KiB\n",
      "2024-04-28 23:42:53.191719: I external/local_tsl/tsl/framework/bfc_allocator.cc:1108] 2 Chunks of size 49152 totalling 96.0KiB\n",
      "2024-04-28 23:42:53.191735: I external/local_tsl/tsl/framework/bfc_allocator.cc:1108] 12 Chunks of size 131072 totalling 1.50MiB\n",
      "2024-04-28 23:42:53.191750: I external/local_tsl/tsl/framework/bfc_allocator.cc:1108] 16 Chunks of size 147456 totalling 2.25MiB\n",
      "2024-04-28 23:42:53.191766: I external/local_tsl/tsl/framework/bfc_allocator.cc:1108] 4 Chunks of size 400128 totalling 1.53MiB\n",
      "2024-04-28 23:42:53.191781: I external/local_tsl/tsl/framework/bfc_allocator.cc:1108] 1 Chunks of size 122880000 totalling 117.19MiB\n",
      "2024-04-28 23:42:53.191796: I external/local_tsl/tsl/framework/bfc_allocator.cc:1108] 6 Chunks of size 1228800000 totalling 6.87GiB\n",
      "2024-04-28 23:42:53.191811: I external/local_tsl/tsl/framework/bfc_allocator.cc:1108] 1 Chunks of size 1229036288 totalling 1.14GiB\n",
      "2024-04-28 23:42:53.191826: I external/local_tsl/tsl/framework/bfc_allocator.cc:1108] 1 Chunks of size 1229600256 totalling 1.14GiB\n",
      "2024-04-28 23:42:53.191842: I external/local_tsl/tsl/framework/bfc_allocator.cc:1112] Sum Total of in-use chunks: 9.28GiB\n",
      "2024-04-28 23:42:53.191858: I external/local_tsl/tsl/framework/bfc_allocator.cc:1114] Total bytes in pool: 10526392320 memory_limit_: 10526392320 available bytes: 0 curr_region_allocation_bytes_: 21052784640\n",
      "2024-04-28 23:42:53.191893: I external/local_tsl/tsl/framework/bfc_allocator.cc:1119] Stats: \n",
      "Limit:                     10526392320\n",
      "InUse:                      9960387584\n",
      "MaxInUse:                   9961430784\n",
      "NumAllocs:                        1833\n",
      "MaxAllocSize:               1229600256\n",
      "Reserved:                            0\n",
      "PeakReserved:                        0\n",
      "LargestFreeBlock:                    0\n",
      "\n",
      "2024-04-28 23:42:53.191930: W external/local_tsl/tsl/framework/bfc_allocator.cc:499] ***********************************************************************************************_____\n"
     ]
    },
    {
     "ename": "InternalError",
     "evalue": "Failed copying input tensor from /job:localhost/replica:0/task:0/device:CPU:0 to /job:localhost/replica:0/task:0/device:GPU:0 in order to run _EagerConst: Dst tensor is not initialized.",
     "output_type": "error",
     "traceback": [
      "\u001b[0;31m---------------------------------------------------------------------------\u001b[0m",
      "\u001b[0;31mInternalError\u001b[0m                             Traceback (most recent call last)",
      "Cell \u001b[0;32mIn[51], line 1\u001b[0m\n\u001b[0;32m----> 1\u001b[0m history \u001b[38;5;241m=\u001b[39m \u001b[43mmodel\u001b[49m\u001b[38;5;241;43m.\u001b[39;49m\u001b[43mfit\u001b[49m\u001b[43m(\u001b[49m\u001b[43m[\u001b[49m\u001b[43mX1\u001b[49m\u001b[43m,\u001b[49m\u001b[43m \u001b[49m\u001b[43mX2\u001b[49m\u001b[43m]\u001b[49m\u001b[43m,\u001b[49m\u001b[43m \u001b[49m\u001b[43my\u001b[49m\u001b[43m,\u001b[49m\u001b[43m \u001b[49m\u001b[43mepochs\u001b[49m\u001b[38;5;241;43m=\u001b[39;49m\u001b[38;5;241;43m500\u001b[39;49m\u001b[43m,\u001b[49m\u001b[43m \u001b[49m\u001b[43mbatch_size\u001b[49m\u001b[38;5;241;43m=\u001b[39;49m\u001b[38;5;241;43m512\u001b[39;49m\u001b[43m,\u001b[49m\u001b[43m \u001b[49m\u001b[43mshuffle\u001b[49m\u001b[38;5;241;43m=\u001b[39;49m\u001b[38;5;28;43;01mTrue\u001b[39;49;00m\u001b[43m,\u001b[49m\u001b[43m \u001b[49m\u001b[43mclass_weight\u001b[49m\u001b[38;5;241;43m=\u001b[39;49m\u001b[43m{\u001b[49m\u001b[38;5;241;43m0\u001b[39;49m\u001b[43m:\u001b[49m\u001b[38;5;241;43m1\u001b[39;49m\u001b[43m,\u001b[49m\u001b[43m \u001b[49m\u001b[38;5;241;43m1\u001b[39;49m\u001b[43m:\u001b[49m\u001b[38;5;241;43m2\u001b[39;49m\u001b[43m}\u001b[49m\u001b[43m,\u001b[49m\n\u001b[1;32m      2\u001b[0m \u001b[43m         \u001b[49m\u001b[43mvalidation_data\u001b[49m\u001b[38;5;241;43m=\u001b[39;49m\u001b[43m(\u001b[49m\u001b[43m[\u001b[49m\u001b[43mtest_images\u001b[49m\u001b[43m,\u001b[49m\u001b[43m \u001b[49m\u001b[43mnp\u001b[49m\u001b[38;5;241;43m.\u001b[39;49m\u001b[43mconcatenate\u001b[49m\u001b[43m(\u001b[49m\u001b[43m[\u001b[49m\u001b[43mtest_images\u001b[49m\u001b[43m[\u001b[49m\u001b[38;5;241;43m1\u001b[39;49m\u001b[43m:\u001b[49m\u001b[43m]\u001b[49m\u001b[43m,\u001b[49m\u001b[43m \u001b[49m\u001b[43mtest_images\u001b[49m\u001b[43m[\u001b[49m\u001b[43m:\u001b[49m\u001b[38;5;241;43m1\u001b[39;49m\u001b[43m]\u001b[49m\u001b[43m]\u001b[49m\u001b[43m)\u001b[49m\u001b[43m]\u001b[49m\u001b[43m,\u001b[49m\u001b[43m \u001b[49m\u001b[43my_tst\u001b[49m\u001b[43m)\u001b[49m\u001b[43m)\u001b[49m\n",
      "File \u001b[0;32m~/miniconda3/envs/ml4/lib/python3.12/site-packages/keras/src/utils/traceback_utils.py:122\u001b[0m, in \u001b[0;36mfilter_traceback.<locals>.error_handler\u001b[0;34m(*args, **kwargs)\u001b[0m\n\u001b[1;32m    119\u001b[0m     filtered_tb \u001b[38;5;241m=\u001b[39m _process_traceback_frames(e\u001b[38;5;241m.\u001b[39m__traceback__)\n\u001b[1;32m    120\u001b[0m     \u001b[38;5;66;03m# To get the full stack trace, call:\u001b[39;00m\n\u001b[1;32m    121\u001b[0m     \u001b[38;5;66;03m# `keras.config.disable_traceback_filtering()`\u001b[39;00m\n\u001b[0;32m--> 122\u001b[0m     \u001b[38;5;28;01mraise\u001b[39;00m e\u001b[38;5;241m.\u001b[39mwith_traceback(filtered_tb) \u001b[38;5;28;01mfrom\u001b[39;00m \u001b[38;5;28;01mNone\u001b[39;00m\n\u001b[1;32m    123\u001b[0m \u001b[38;5;28;01mfinally\u001b[39;00m:\n\u001b[1;32m    124\u001b[0m     \u001b[38;5;28;01mdel\u001b[39;00m filtered_tb\n",
      "File \u001b[0;32m~/miniconda3/envs/ml4/lib/python3.12/site-packages/tensorflow/python/framework/constant_op.py:108\u001b[0m, in \u001b[0;36mconvert_to_eager_tensor\u001b[0;34m(value, ctx, dtype)\u001b[0m\n\u001b[1;32m    106\u001b[0m     dtype \u001b[38;5;241m=\u001b[39m dtypes\u001b[38;5;241m.\u001b[39mas_dtype(dtype)\u001b[38;5;241m.\u001b[39mas_datatype_enum\n\u001b[1;32m    107\u001b[0m ctx\u001b[38;5;241m.\u001b[39mensure_initialized()\n\u001b[0;32m--> 108\u001b[0m \u001b[38;5;28;01mreturn\u001b[39;00m \u001b[43mops\u001b[49m\u001b[38;5;241;43m.\u001b[39;49m\u001b[43mEagerTensor\u001b[49m\u001b[43m(\u001b[49m\u001b[43mvalue\u001b[49m\u001b[43m,\u001b[49m\u001b[43m \u001b[49m\u001b[43mctx\u001b[49m\u001b[38;5;241;43m.\u001b[39;49m\u001b[43mdevice_name\u001b[49m\u001b[43m,\u001b[49m\u001b[43m \u001b[49m\u001b[43mdtype\u001b[49m\u001b[43m)\u001b[49m\n",
      "\u001b[0;31mInternalError\u001b[0m: Failed copying input tensor from /job:localhost/replica:0/task:0/device:CPU:0 to /job:localhost/replica:0/task:0/device:GPU:0 in order to run _EagerConst: Dst tensor is not initialized."
     ]
    }
   ],
   "source": [
    "history = model.fit([X1, X2], y, epochs=500, batch_size=512, shuffle=True, class_weight={0:1, 1:2},\n",
    "         validation_data=([test_images, np.concatenate([test_images[1:], test_images[:1]])], y_tst))\n"
   ]
  },
  {
   "cell_type": "code",
   "execution_count": null,
   "id": "white-butler",
   "metadata": {},
   "outputs": [
    {
     "ename": "NameError",
     "evalue": "name 'print_history_chart' is not defined",
     "output_type": "error",
     "traceback": [
      "\u001b[0;31m---------------------------------------------------------------------------\u001b[0m",
      "\u001b[0;31mNameError\u001b[0m                                 Traceback (most recent call last)",
      "Cell \u001b[0;32mIn[1], line 1\u001b[0m\n\u001b[0;32m----> 1\u001b[0m \u001b[43mprint_history_chart\u001b[49m(history)\n",
      "\u001b[0;31mNameError\u001b[0m: name 'print_history_chart' is not defined"
     ]
    }
   ],
   "source": [
    "print_history_chart(history)"
   ]
  },
  {
   "cell_type": "code",
   "execution_count": null,
   "id": "quantitative-denver",
   "metadata": {},
   "outputs": [],
   "source": [
    "model.save('cifar/models/siamese_vanilla_cifar10_diff.h5')"
   ]
  },
  {
   "cell_type": "markdown",
   "id": "35b9e27b",
   "metadata": {},
   "source": [
    "retrain"
   ]
  },
  {
   "cell_type": "code",
   "execution_count": null,
   "id": "a1b01c84",
   "metadata": {},
   "outputs": [],
   "source": [
    "# !for i in {200..250}; do python retrain_cifar_10.py $i; done"
   ]
  },
  {
   "cell_type": "markdown",
   "id": "f35c70ae",
   "metadata": {},
   "source": [
    "evaluate"
   ]
  },
  {
   "cell_type": "code",
   "execution_count": null,
   "id": "spatial-headline",
   "metadata": {},
   "outputs": [
    {
     "ename": "FileNotFoundError",
     "evalue": "[Errno 2] Unable to synchronously open file (unable to open file: name = 'siamese_vanilla_cifar10_diff.h5', errno = 2, error message = 'No such file or directory', flags = 0, o_flags = 0)",
     "output_type": "error",
     "traceback": [
      "\u001b[0;31m---------------------------------------------------------------------------\u001b[0m",
      "\u001b[0;31mFileNotFoundError\u001b[0m                         Traceback (most recent call last)",
      "Cell \u001b[0;32mIn[5], line 1\u001b[0m\n\u001b[0;32m----> 1\u001b[0m model \u001b[38;5;241m=\u001b[39m \u001b[43mtf\u001b[49m\u001b[38;5;241;43m.\u001b[39;49m\u001b[43mkeras\u001b[49m\u001b[38;5;241;43m.\u001b[39;49m\u001b[43mmodels\u001b[49m\u001b[38;5;241;43m.\u001b[39;49m\u001b[43mload_model\u001b[49m\u001b[43m(\u001b[49m\u001b[38;5;124;43m\"\u001b[39;49m\u001b[38;5;124;43msiamese_vanilla_cifar10_diff.h5\u001b[39;49m\u001b[38;5;124;43m\"\u001b[39;49m\u001b[43m)\u001b[49m\n",
      "File \u001b[0;32m~/miniconda3/envs/ml4/lib/python3.12/site-packages/keras/src/saving/saving_api.py:183\u001b[0m, in \u001b[0;36mload_model\u001b[0;34m(filepath, custom_objects, compile, safe_mode)\u001b[0m\n\u001b[1;32m    176\u001b[0m     \u001b[38;5;28;01mreturn\u001b[39;00m saving_lib\u001b[38;5;241m.\u001b[39mload_model(\n\u001b[1;32m    177\u001b[0m         filepath,\n\u001b[1;32m    178\u001b[0m         custom_objects\u001b[38;5;241m=\u001b[39mcustom_objects,\n\u001b[1;32m    179\u001b[0m         \u001b[38;5;28mcompile\u001b[39m\u001b[38;5;241m=\u001b[39m\u001b[38;5;28mcompile\u001b[39m,\n\u001b[1;32m    180\u001b[0m         safe_mode\u001b[38;5;241m=\u001b[39msafe_mode,\n\u001b[1;32m    181\u001b[0m     )\n\u001b[1;32m    182\u001b[0m \u001b[38;5;28;01mif\u001b[39;00m \u001b[38;5;28mstr\u001b[39m(filepath)\u001b[38;5;241m.\u001b[39mendswith((\u001b[38;5;124m\"\u001b[39m\u001b[38;5;124m.h5\u001b[39m\u001b[38;5;124m\"\u001b[39m, \u001b[38;5;124m\"\u001b[39m\u001b[38;5;124m.hdf5\u001b[39m\u001b[38;5;124m\"\u001b[39m)):\n\u001b[0;32m--> 183\u001b[0m     \u001b[38;5;28;01mreturn\u001b[39;00m \u001b[43mlegacy_h5_format\u001b[49m\u001b[38;5;241;43m.\u001b[39;49m\u001b[43mload_model_from_hdf5\u001b[49m\u001b[43m(\u001b[49m\n\u001b[1;32m    184\u001b[0m \u001b[43m        \u001b[49m\u001b[43mfilepath\u001b[49m\u001b[43m,\u001b[49m\u001b[43m \u001b[49m\u001b[43mcustom_objects\u001b[49m\u001b[38;5;241;43m=\u001b[39;49m\u001b[43mcustom_objects\u001b[49m\u001b[43m,\u001b[49m\u001b[43m \u001b[49m\u001b[38;5;28;43mcompile\u001b[39;49m\u001b[38;5;241;43m=\u001b[39;49m\u001b[38;5;28;43mcompile\u001b[39;49m\n\u001b[1;32m    185\u001b[0m \u001b[43m    \u001b[49m\u001b[43m)\u001b[49m\n\u001b[1;32m    186\u001b[0m \u001b[38;5;28;01melif\u001b[39;00m \u001b[38;5;28mstr\u001b[39m(filepath)\u001b[38;5;241m.\u001b[39mendswith(\u001b[38;5;124m\"\u001b[39m\u001b[38;5;124m.keras\u001b[39m\u001b[38;5;124m\"\u001b[39m):\n\u001b[1;32m    187\u001b[0m     \u001b[38;5;28;01mraise\u001b[39;00m \u001b[38;5;167;01mValueError\u001b[39;00m(\n\u001b[1;32m    188\u001b[0m         \u001b[38;5;124mf\u001b[39m\u001b[38;5;124m\"\u001b[39m\u001b[38;5;124mFile not found: filepath=\u001b[39m\u001b[38;5;132;01m{\u001b[39;00mfilepath\u001b[38;5;132;01m}\u001b[39;00m\u001b[38;5;124m. \u001b[39m\u001b[38;5;124m\"\u001b[39m\n\u001b[1;32m    189\u001b[0m         \u001b[38;5;124m\"\u001b[39m\u001b[38;5;124mPlease ensure the file is an accessible `.keras` \u001b[39m\u001b[38;5;124m\"\u001b[39m\n\u001b[1;32m    190\u001b[0m         \u001b[38;5;124m\"\u001b[39m\u001b[38;5;124mzip file.\u001b[39m\u001b[38;5;124m\"\u001b[39m\n\u001b[1;32m    191\u001b[0m     )\n",
      "File \u001b[0;32m~/miniconda3/envs/ml4/lib/python3.12/site-packages/keras/src/legacy/saving/legacy_h5_format.py:116\u001b[0m, in \u001b[0;36mload_model_from_hdf5\u001b[0;34m(filepath, custom_objects, compile)\u001b[0m\n\u001b[1;32m    114\u001b[0m opened_new_file \u001b[38;5;241m=\u001b[39m \u001b[38;5;129;01mnot\u001b[39;00m \u001b[38;5;28misinstance\u001b[39m(filepath, h5py\u001b[38;5;241m.\u001b[39mFile)\n\u001b[1;32m    115\u001b[0m \u001b[38;5;28;01mif\u001b[39;00m opened_new_file:\n\u001b[0;32m--> 116\u001b[0m     f \u001b[38;5;241m=\u001b[39m \u001b[43mh5py\u001b[49m\u001b[38;5;241;43m.\u001b[39;49m\u001b[43mFile\u001b[49m\u001b[43m(\u001b[49m\u001b[43mfilepath\u001b[49m\u001b[43m,\u001b[49m\u001b[43m \u001b[49m\u001b[43mmode\u001b[49m\u001b[38;5;241;43m=\u001b[39;49m\u001b[38;5;124;43m\"\u001b[39;49m\u001b[38;5;124;43mr\u001b[39;49m\u001b[38;5;124;43m\"\u001b[39;49m\u001b[43m)\u001b[49m\n\u001b[1;32m    117\u001b[0m \u001b[38;5;28;01melse\u001b[39;00m:\n\u001b[1;32m    118\u001b[0m     f \u001b[38;5;241m=\u001b[39m filepath\n",
      "File \u001b[0;32m~/miniconda3/envs/ml4/lib/python3.12/site-packages/h5py/_hl/files.py:562\u001b[0m, in \u001b[0;36mFile.__init__\u001b[0;34m(self, name, mode, driver, libver, userblock_size, swmr, rdcc_nslots, rdcc_nbytes, rdcc_w0, track_order, fs_strategy, fs_persist, fs_threshold, fs_page_size, page_buf_size, min_meta_keep, min_raw_keep, locking, alignment_threshold, alignment_interval, meta_block_size, **kwds)\u001b[0m\n\u001b[1;32m    553\u001b[0m     fapl \u001b[38;5;241m=\u001b[39m make_fapl(driver, libver, rdcc_nslots, rdcc_nbytes, rdcc_w0,\n\u001b[1;32m    554\u001b[0m                      locking, page_buf_size, min_meta_keep, min_raw_keep,\n\u001b[1;32m    555\u001b[0m                      alignment_threshold\u001b[38;5;241m=\u001b[39malignment_threshold,\n\u001b[1;32m    556\u001b[0m                      alignment_interval\u001b[38;5;241m=\u001b[39malignment_interval,\n\u001b[1;32m    557\u001b[0m                      meta_block_size\u001b[38;5;241m=\u001b[39mmeta_block_size,\n\u001b[1;32m    558\u001b[0m                      \u001b[38;5;241m*\u001b[39m\u001b[38;5;241m*\u001b[39mkwds)\n\u001b[1;32m    559\u001b[0m     fcpl \u001b[38;5;241m=\u001b[39m make_fcpl(track_order\u001b[38;5;241m=\u001b[39mtrack_order, fs_strategy\u001b[38;5;241m=\u001b[39mfs_strategy,\n\u001b[1;32m    560\u001b[0m                      fs_persist\u001b[38;5;241m=\u001b[39mfs_persist, fs_threshold\u001b[38;5;241m=\u001b[39mfs_threshold,\n\u001b[1;32m    561\u001b[0m                      fs_page_size\u001b[38;5;241m=\u001b[39mfs_page_size)\n\u001b[0;32m--> 562\u001b[0m     fid \u001b[38;5;241m=\u001b[39m \u001b[43mmake_fid\u001b[49m\u001b[43m(\u001b[49m\u001b[43mname\u001b[49m\u001b[43m,\u001b[49m\u001b[43m \u001b[49m\u001b[43mmode\u001b[49m\u001b[43m,\u001b[49m\u001b[43m \u001b[49m\u001b[43muserblock_size\u001b[49m\u001b[43m,\u001b[49m\u001b[43m \u001b[49m\u001b[43mfapl\u001b[49m\u001b[43m,\u001b[49m\u001b[43m \u001b[49m\u001b[43mfcpl\u001b[49m\u001b[43m,\u001b[49m\u001b[43m \u001b[49m\u001b[43mswmr\u001b[49m\u001b[38;5;241;43m=\u001b[39;49m\u001b[43mswmr\u001b[49m\u001b[43m)\u001b[49m\n\u001b[1;32m    564\u001b[0m \u001b[38;5;28;01mif\u001b[39;00m \u001b[38;5;28misinstance\u001b[39m(libver, \u001b[38;5;28mtuple\u001b[39m):\n\u001b[1;32m    565\u001b[0m     \u001b[38;5;28mself\u001b[39m\u001b[38;5;241m.\u001b[39m_libver \u001b[38;5;241m=\u001b[39m libver\n",
      "File \u001b[0;32m~/miniconda3/envs/ml4/lib/python3.12/site-packages/h5py/_hl/files.py:235\u001b[0m, in \u001b[0;36mmake_fid\u001b[0;34m(name, mode, userblock_size, fapl, fcpl, swmr)\u001b[0m\n\u001b[1;32m    233\u001b[0m     \u001b[38;5;28;01mif\u001b[39;00m swmr \u001b[38;5;129;01mand\u001b[39;00m swmr_support:\n\u001b[1;32m    234\u001b[0m         flags \u001b[38;5;241m|\u001b[39m\u001b[38;5;241m=\u001b[39m h5f\u001b[38;5;241m.\u001b[39mACC_SWMR_READ\n\u001b[0;32m--> 235\u001b[0m     fid \u001b[38;5;241m=\u001b[39m \u001b[43mh5f\u001b[49m\u001b[38;5;241;43m.\u001b[39;49m\u001b[43mopen\u001b[49m\u001b[43m(\u001b[49m\u001b[43mname\u001b[49m\u001b[43m,\u001b[49m\u001b[43m \u001b[49m\u001b[43mflags\u001b[49m\u001b[43m,\u001b[49m\u001b[43m \u001b[49m\u001b[43mfapl\u001b[49m\u001b[38;5;241;43m=\u001b[39;49m\u001b[43mfapl\u001b[49m\u001b[43m)\u001b[49m\n\u001b[1;32m    236\u001b[0m \u001b[38;5;28;01melif\u001b[39;00m mode \u001b[38;5;241m==\u001b[39m \u001b[38;5;124m'\u001b[39m\u001b[38;5;124mr+\u001b[39m\u001b[38;5;124m'\u001b[39m:\n\u001b[1;32m    237\u001b[0m     fid \u001b[38;5;241m=\u001b[39m h5f\u001b[38;5;241m.\u001b[39mopen(name, h5f\u001b[38;5;241m.\u001b[39mACC_RDWR, fapl\u001b[38;5;241m=\u001b[39mfapl)\n",
      "File \u001b[0;32mh5py/_objects.pyx:54\u001b[0m, in \u001b[0;36mh5py._objects.with_phil.wrapper\u001b[0;34m()\u001b[0m\n",
      "File \u001b[0;32mh5py/_objects.pyx:55\u001b[0m, in \u001b[0;36mh5py._objects.with_phil.wrapper\u001b[0;34m()\u001b[0m\n",
      "File \u001b[0;32mh5py/h5f.pyx:102\u001b[0m, in \u001b[0;36mh5py.h5f.open\u001b[0;34m()\u001b[0m\n",
      "\u001b[0;31mFileNotFoundError\u001b[0m: [Errno 2] Unable to synchronously open file (unable to open file: name = 'siamese_vanilla_cifar10_diff.h5', errno = 2, error message = 'No such file or directory', flags = 0, o_flags = 0)"
     ]
    }
   ],
   "source": [
    "model = tf.keras.models.load_model(\"cifar/models/siamese_vanilla_cifar10_diff.h5\")\n"
   ]
  },
  {
   "cell_type": "code",
   "execution_count": null,
   "id": "6897f294",
   "metadata": {},
   "outputs": [
    {
     "name": "stdout",
     "output_type": "stream",
     "text": [
      "Model: \"model_1\"\n",
      "__________________________________________________________________________________________________\n",
      "Layer (type)                    Output Shape         Param #     Connected to                     \n",
      "==================================================================================================\n",
      "input_1 (InputLayer)            [(None, 32, 32, 3)]  0                                            \n",
      "__________________________________________________________________________________________________\n",
      "input_2 (InputLayer)            [(None, 32, 32, 3)]  0                                            \n",
      "__________________________________________________________________________________________________\n",
      "model (Functional)              (None, 32)           109664      input_1[0][0]                    \n",
      "                                                                 input_2[0][0]                    \n",
      "__________________________________________________________________________________________________\n",
      "lambda (Lambda)                 (None, 1)            0           model[0][0]                      \n",
      "                                                                 model[1][0]                      \n",
      "__________________________________________________________________________________________________\n",
      "concatenate (Concatenate)       (None, 65)           0           lambda[0][0]                     \n",
      "                                                                 model[0][0]                      \n",
      "                                                                 model[1][0]                      \n",
      "__________________________________________________________________________________________________\n",
      "dense_1 (Dense)                 (None, 64)           4224        concatenate[0][0]                \n",
      "__________________________________________________________________________________________________\n",
      "dense_2 (Dense)                 (None, 1)            65          dense_1[0][0]                    \n",
      "==================================================================================================\n",
      "Total params: 113,953\n",
      "Trainable params: 113,953\n",
      "Non-trainable params: 0\n",
      "__________________________________________________________________________________________________\n"
     ]
    }
   ],
   "source": [
    "model.summary()"
   ]
  },
  {
   "cell_type": "code",
   "execution_count": null,
   "id": "de602c23",
   "metadata": {},
   "outputs": [],
   "source": [
    "y_pred = model.predict([test_images, np.concatenate([test_images[1:], test_images[:1]])])"
   ]
  },
  {
   "cell_type": "code",
   "execution_count": null,
   "id": "7b031973",
   "metadata": {},
   "outputs": [
    {
     "data": {
      "text/plain": [
       "0.93"
      ]
     },
     "execution_count": 42,
     "metadata": {},
     "output_type": "execute_result"
    }
   ],
   "source": [
    "accuracy_score(y_tst, y_pred>0.5)"
   ]
  },
  {
   "cell_type": "code",
   "execution_count": null,
   "id": "77b03823",
   "metadata": {},
   "outputs": [
    {
     "data": {
      "text/plain": [
       "array([[8647,  361],\n",
       "       [ 339,  653]])"
      ]
     },
     "execution_count": 43,
     "metadata": {},
     "output_type": "execute_result"
    }
   ],
   "source": [
    "confusion_matrix(y_tst, y_pred>0.5) #id9"
   ]
  },
  {
   "cell_type": "code",
   "execution_count": null,
   "id": "82f3391d",
   "metadata": {},
   "outputs": [
    {
     "data": {
      "text/plain": [
       "0.6510468594217348"
      ]
     },
     "execution_count": 44,
     "metadata": {},
     "output_type": "execute_result"
    }
   ],
   "source": [
    "f1_score(y_tst, y_pred>0.5)"
   ]
  },
  {
   "cell_type": "code",
   "execution_count": null,
   "id": "bc55c331",
   "metadata": {},
   "outputs": [],
   "source": []
  }
 ],
 "metadata": {
  "kernelspec": {
   "display_name": "ml4",
   "language": "python",
   "name": "python3"
  },
  "language_info": {
   "codemirror_mode": {
    "name": "ipython",
    "version": 3
   },
   "file_extension": ".py",
   "mimetype": "text/x-python",
   "name": "python",
   "nbconvert_exporter": "python",
   "pygments_lexer": "ipython3",
   "version": "3.12.3"
  }
 },
 "nbformat": 4,
 "nbformat_minor": 5
}
